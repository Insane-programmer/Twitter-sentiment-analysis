{
 "cells": [
  {
   "cell_type": "markdown",
   "metadata": {},
   "source": [
    "<h1><font size=\"8\"><b>Major Project</b></font><h1>"
   ]
  },
  {
   "cell_type": "markdown",
   "metadata": {},
   "source": [
    "<p><font size=\"5\">Importing basic libraries</font><p>"
   ]
  },
  {
   "cell_type": "code",
   "execution_count": 1,
   "metadata": {},
   "outputs": [],
   "source": [
    "import pandas as pd\n",
    "import numpy as np\n",
    "import seaborn as sns\n",
    "import re\n",
    "import string\n",
    "import matplotlib.pyplot as plt\n",
    "%matplotlib inline"
   ]
  },
  {
   "cell_type": "markdown",
   "metadata": {},
   "source": [
    "<p><font size=\"4\">Reading csv file</font><p>"
   ]
  },
  {
   "cell_type": "code",
   "execution_count": 2,
   "metadata": {},
   "outputs": [],
   "source": [
    "df1=pd.read_csv(\"Information.csv\", encoding=\"latin1\")\n",
    "df1.drop_duplicates(subset =\"name\",keep=\"last\",inplace=True)\n"
   ]
  },
  {
   "cell_type": "markdown",
   "metadata": {},
   "source": [
    "<p><font size=\"4\">Filtering the data by specifying requiremental condition</font><p>"
   ]
  },
  {
   "cell_type": "code",
   "execution_count": 3,
   "metadata": {},
   "outputs": [],
   "source": [
    "df1=df1[df1[\"tweet_count\"]>2000]\n",
    "df1=df1[df1[\"gender\"]!=\"unknown\"]\n",
    "df1= df1[df1['gender:confidence'] == 1]\n"
   ]
  },
  {
   "cell_type": "code",
   "execution_count": 4,
   "metadata": {},
   "outputs": [],
   "source": [
    "df1.dropna(subset = ['_last_judgment_at'], inplace = True)\n",
    "for i in df1['_last_judgment_at']:\n",
    "    df1['_last_judgment_at'] = df1['_last_judgment_at'].replace(i, i[:9])\n",
    "for i in df1['created']:\n",
    "    df1['created'] = df1['created'].replace(i, i[:7])\n"
   ]
  },
  {
   "cell_type": "markdown",
   "metadata": {},
   "source": [
    "<p><font size=\"4\">Converting columns with individual strings to nuerical value by label encoding </font><p>"
   ]
  },
  {
   "cell_type": "code",
   "execution_count": 5,
   "metadata": {},
   "outputs": [],
   "source": [
    "from sklearn.preprocessing import LabelEncoder\n"
   ]
  },
  {
   "cell_type": "code",
   "execution_count": 6,
   "metadata": {},
   "outputs": [],
   "source": [
    "le = LabelEncoder()"
   ]
  },
  {
   "cell_type": "code",
   "execution_count": 7,
   "metadata": {},
   "outputs": [],
   "source": [
    "df1['gender1'] = le.fit_transform(df1['gender']) \n",
    "df1['_last_judgment_at1'] = le.fit_transform(df1['_last_judgment_at'])\n",
    "df1['profileimage1'] = le.fit_transform(df1['profileimage'])\n",
    "df1['link_color1'] = le.fit_transform(df1['link_color'])\n",
    "df1['created1'] = le.fit_transform(df1['created'])"
   ]
  },
  {
   "cell_type": "markdown",
   "metadata": {},
   "source": [
    "<p><font size=\"4\">Fill the missing values in data</font><p>"
   ]
  },
  {
   "cell_type": "code",
   "execution_count": 8,
   "metadata": {},
   "outputs": [],
   "source": [
    "df1=df1.fillna(0)"
   ]
  },
  {
   "cell_type": "code",
   "execution_count": 9,
   "metadata": {},
   "outputs": [
    {
     "data": {
      "text/plain": [
       "Index(['_unit_id', '_trusted_judgments', 'gender:confidence',\n",
       "       'profile_yn:confidence', 'fav_number', 'gender_gold', 'profile_yn_gold',\n",
       "       'retweet_count', 'tweet_count', 'tweet_id', 'gender1',\n",
       "       '_last_judgment_at1', 'profileimage1', 'link_color1', 'created1'],\n",
       "      dtype='object')"
      ]
     },
     "execution_count": 9,
     "metadata": {},
     "output_type": "execute_result"
    }
   ],
   "source": [
    "df1.describe().columns"
   ]
  },
  {
   "cell_type": "code",
   "execution_count": 10,
   "metadata": {},
   "outputs": [
    {
     "name": "stdout",
     "output_type": "stream",
     "text": [
      "<class 'pandas.core.frame.DataFrame'>\n",
      "Int64Index: 9796 entries, 0 to 19999\n",
      "Data columns (total 31 columns):\n",
      " #   Column                 Non-Null Count  Dtype  \n",
      "---  ------                 --------------  -----  \n",
      " 0   _unit_id               9796 non-null   int64  \n",
      " 1   _golden                9796 non-null   bool   \n",
      " 2   _unit_state            9796 non-null   object \n",
      " 3   _trusted_judgments     9796 non-null   int64  \n",
      " 4   _last_judgment_at      9796 non-null   object \n",
      " 5   gender                 9796 non-null   object \n",
      " 6   gender:confidence      9796 non-null   float64\n",
      " 7   profile_yn             9796 non-null   object \n",
      " 8   profile_yn:confidence  9796 non-null   float64\n",
      " 9   created                9796 non-null   object \n",
      " 10  description            9796 non-null   object \n",
      " 11  fav_number             9796 non-null   int64  \n",
      " 12  gender_gold            9796 non-null   int64  \n",
      " 13  link_color             9796 non-null   object \n",
      " 14  name                   9796 non-null   object \n",
      " 15  profile_yn_gold        9796 non-null   int64  \n",
      " 16  profileimage           9796 non-null   object \n",
      " 17  retweet_count          9796 non-null   int64  \n",
      " 18  sidebar_color          9796 non-null   object \n",
      " 19  text                   9796 non-null   object \n",
      " 20  tweet_coord            9796 non-null   object \n",
      " 21  tweet_count            9796 non-null   int64  \n",
      " 22  tweet_created          9796 non-null   object \n",
      " 23  tweet_id               9796 non-null   float64\n",
      " 24  tweet_location         9796 non-null   object \n",
      " 25  user_timezone          9796 non-null   object \n",
      " 26  gender1                9796 non-null   int32  \n",
      " 27  _last_judgment_at1     9796 non-null   int32  \n",
      " 28  profileimage1          9796 non-null   int32  \n",
      " 29  link_color1            9796 non-null   int32  \n",
      " 30  created1               9796 non-null   int32  \n",
      "dtypes: bool(1), float64(3), int32(5), int64(7), object(15)\n",
      "memory usage: 2.1+ MB\n"
     ]
    }
   ],
   "source": [
    "df1.info()"
   ]
  },
  {
   "cell_type": "markdown",
   "metadata": {},
   "source": [
    "<h4><font size=\"5\">Feature Selection</font><h4>"
   ]
  },
  {
   "cell_type": "markdown",
   "metadata": {},
   "source": [
    "<p><font size=\"4\"><i>Univariate Selection</i></font><p>"
   ]
  },
  {
   "cell_type": "code",
   "execution_count": 11,
   "metadata": {},
   "outputs": [],
   "source": [
    "from sklearn.feature_selection import SelectKBest\n",
    "from sklearn.feature_selection import chi2"
   ]
  },
  {
   "cell_type": "code",
   "execution_count": 12,
   "metadata": {},
   "outputs": [],
   "source": [
    "X=df1[['_unit_id', '_trusted_judgments', 'gender:confidence',\n",
    "       'profile_yn:confidence', 'fav_number', 'retweet_count', 'tweet_count',\n",
    "       'tweet_id', '_last_judgment_at1', 'profileimage1',\n",
    "       'link_color1', 'created1']]#independent variable\n",
    "y=df1[['gender1']]#dependent variable"
   ]
  },
  {
   "cell_type": "code",
   "execution_count": 13,
   "metadata": {},
   "outputs": [
    {
     "name": "stdout",
     "output_type": "stream",
     "text": [
      "                 Specs         Score\n",
      "7             tweet_id  6.624813e+09\n",
      "6          tweet_count  3.923510e+07\n",
      "4           fav_number  8.010563e+06\n",
      "9        profileimage1  4.464588e+06\n",
      "10         link_color1  3.076321e+05\n",
      "11            created1  1.099925e+04\n",
      "5        retweet_count  2.073884e+02\n",
      "0             _unit_id  4.009273e+00\n",
      "8   _last_judgment_at1  3.947856e+00\n",
      "1   _trusted_judgments  1.086394e-28\n"
     ]
    }
   ],
   "source": [
    "bestfeatures = SelectKBest(score_func=chi2, k=10)\n",
    "fit = bestfeatures.fit(X,y)\n",
    "dfscores = pd.DataFrame(fit.scores_)\n",
    "dfcolumns = pd.DataFrame(X.columns)\n",
    "#concat two dataframes for better visualization \n",
    "featureScores = pd.concat([dfcolumns,dfscores],axis=1)\n",
    "featureScores.columns = ['Specs','Score']  #naming the dataframe columns\n",
    "print(featureScores.nlargest(10,'Score')) "
   ]
  },
  {
   "cell_type": "markdown",
   "metadata": {},
   "source": [
    "<p><font size=\"4\"><i>Feature Importance</i></font><p>"
   ]
  },
  {
   "cell_type": "code",
   "execution_count": 14,
   "metadata": {
    "scrolled": false
   },
   "outputs": [
    {
     "name": "stderr",
     "output_type": "stream",
     "text": [
      "C:\\Users\\Administrator\\Downloads\\WPy64-3771\\python-3.7.7.amd64\\lib\\site-packages\\ipykernel_launcher.py:4: DataConversionWarning: A column-vector y was passed when a 1d array was expected. Please change the shape of y to (n_samples,), for example using ravel().\n",
      "  after removing the cwd from sys.path.\n"
     ]
    },
    {
     "name": "stdout",
     "output_type": "stream",
     "text": [
      "[0.14169178 0.         0.         0.         0.15736642 0.01636701\n",
      " 0.144972   0.0107218  0.01845954 0.25486273 0.11847669 0.13708203]\n"
     ]
    },
    {
     "data": {
      "image/png": "[encoded data removed]",
      "text/plain": [
       "<Figure size 432x288 with 1 Axes>"
      ]
     },
     "metadata": {
      "needs_background": "light"
     },
     "output_type": "display_data"
    }
   ],
   "source": [
    "from sklearn.ensemble import ExtraTreesClassifier\n",
    "import matplotlib.pyplot as plt\n",
    "model = ExtraTreesClassifier()\n",
    "model.fit(X,y)\n",
    "print(model.feature_importances_) #use inbuilt class feature_importances of tree based classifiers\n",
    "#plot graph of feature importances for better visualization\n",
    "feat_importances = pd.Series(model.feature_importances_, index=X.columns)\n",
    "feat_importances.nlargest(10).plot(kind='barh')\n",
    "plt.show()\n"
   ]
  },
  {
   "cell_type": "markdown",
   "metadata": {},
   "source": [
    "<p><font size=\"3\">Defining new data with top features</font><p>"
   ]
  },
  {
   "cell_type": "code",
   "execution_count": 15,
   "metadata": {},
   "outputs": [],
   "source": [
    "df2=df1[['_unit_id', 'fav_number', 'tweet_count', 'profileimage1',  'profile_yn:confidence',\n",
    "       'link_color1', 'created1','gender1','text','description']]"
   ]
  },
  {
   "cell_type": "code",
   "execution_count": 16,
   "metadata": {},
   "outputs": [
    {
     "data": {
      "text/html": [
       "<div>\n",
       "<style scoped>\n",
       "    .dataframe tbody tr th:only-of-type {\n",
       "        vertical-align: middle;\n",
       "    }\n",
       "\n",
       "    .dataframe tbody tr th {\n",
       "        vertical-align: top;\n",
       "    }\n",
       "\n",
       "    .dataframe thead th {\n",
       "        text-align: right;\n",
       "    }\n",
       "</style>\n",
       "<table border=\"1\" class=\"dataframe\">\n",
       "  <thead>\n",
       "    <tr style=\"text-align: right;\">\n",
       "      <th></th>\n",
       "      <th>_unit_id</th>\n",
       "      <th>fav_number</th>\n",
       "      <th>tweet_count</th>\n",
       "      <th>profileimage1</th>\n",
       "      <th>profile_yn:confidence</th>\n",
       "      <th>link_color1</th>\n",
       "      <th>created1</th>\n",
       "      <th>gender1</th>\n",
       "      <th>text</th>\n",
       "      <th>description</th>\n",
       "    </tr>\n",
       "  </thead>\n",
       "  <tbody>\n",
       "    <tr>\n",
       "      <th>0</th>\n",
       "      <td>815719226</td>\n",
       "      <td>0</td>\n",
       "      <td>110964</td>\n",
       "      <td>1205</td>\n",
       "      <td>1.0</td>\n",
       "      <td>176</td>\n",
       "      <td>510</td>\n",
       "      <td>2</td>\n",
       "      <td>Robbie E Responds To Critics After Win Against...</td>\n",
       "      <td>i sing my own rhythm.</td>\n",
       "    </tr>\n",
       "    <tr>\n",
       "      <th>1</th>\n",
       "      <td>815719227</td>\n",
       "      <td>68</td>\n",
       "      <td>7471</td>\n",
       "      <td>2258</td>\n",
       "      <td>1.0</td>\n",
       "      <td>56</td>\n",
       "      <td>226</td>\n",
       "      <td>2</td>\n",
       "      <td>ÛÏIt felt like they were my friends and I was...</td>\n",
       "      <td>I'm the author of novels filled with family dr...</td>\n",
       "    </tr>\n",
       "    <tr>\n",
       "      <th>4</th>\n",
       "      <td>815719230</td>\n",
       "      <td>37318</td>\n",
       "      <td>31462</td>\n",
       "      <td>2582</td>\n",
       "      <td>1.0</td>\n",
       "      <td>691</td>\n",
       "      <td>1032</td>\n",
       "      <td>1</td>\n",
       "      <td>Watching Neighbours on Sky+ catching up with t...</td>\n",
       "      <td>Ricky Wilson The Best FRONTMAN/Kaiser Chiefs T...</td>\n",
       "    </tr>\n",
       "    <tr>\n",
       "      <th>5</th>\n",
       "      <td>815719231</td>\n",
       "      <td>3901</td>\n",
       "      <td>20036</td>\n",
       "      <td>7401</td>\n",
       "      <td>1.0</td>\n",
       "      <td>1820</td>\n",
       "      <td>764</td>\n",
       "      <td>1</td>\n",
       "      <td>Ive seen people on the train with lamps, chair...</td>\n",
       "      <td>you don't know me.</td>\n",
       "    </tr>\n",
       "    <tr>\n",
       "      <th>6</th>\n",
       "      <td>815719232</td>\n",
       "      <td>4122</td>\n",
       "      <td>13354</td>\n",
       "      <td>2145</td>\n",
       "      <td>1.0</td>\n",
       "      <td>535</td>\n",
       "      <td>1097</td>\n",
       "      <td>0</td>\n",
       "      <td>@BpackEngineer Thank you for your patience whi...</td>\n",
       "      <td>A global marketplace for images, videos and mu...</td>\n",
       "    </tr>\n",
       "  </tbody>\n",
       "</table>\n",
       "</div>"
      ],
      "text/plain": [
       "    _unit_id  fav_number  tweet_count  profileimage1  profile_yn:confidence  \\\n",
       "0  815719226           0       110964           1205                    1.0   \n",
       "1  815719227          68         7471           2258                    1.0   \n",
       "4  815719230       37318        31462           2582                    1.0   \n",
       "5  815719231        3901        20036           7401                    1.0   \n",
       "6  815719232        4122        13354           2145                    1.0   \n",
       "\n",
       "   link_color1  created1  gender1  \\\n",
       "0          176       510        2   \n",
       "1           56       226        2   \n",
       "4          691      1032        1   \n",
       "5         1820       764        1   \n",
       "6          535      1097        0   \n",
       "\n",
       "                                                text  \\\n",
       "0  Robbie E Responds To Critics After Win Against...   \n",
       "1  ÛÏIt felt like they were my friends and I was...   \n",
       "4  Watching Neighbours on Sky+ catching up with t...   \n",
       "5  Ive seen people on the train with lamps, chair...   \n",
       "6  @BpackEngineer Thank you for your patience whi...   \n",
       "\n",
       "                                         description  \n",
       "0                              i sing my own rhythm.  \n",
       "1  I'm the author of novels filled with family dr...  \n",
       "4  Ricky Wilson The Best FRONTMAN/Kaiser Chiefs T...  \n",
       "5                                 you don't know me.  \n",
       "6  A global marketplace for images, videos and mu...  "
      ]
     },
     "execution_count": 16,
     "metadata": {},
     "output_type": "execute_result"
    }
   ],
   "source": [
    "df2.head()"
   ]
  },
  {
   "cell_type": "code",
   "execution_count": 17,
   "metadata": {},
   "outputs": [
    {
     "name": "stdout",
     "output_type": "stream",
     "text": [
      "<class 'pandas.core.frame.DataFrame'>\n",
      "Int64Index: 9796 entries, 0 to 19999\n",
      "Data columns (total 10 columns):\n",
      " #   Column                 Non-Null Count  Dtype  \n",
      "---  ------                 --------------  -----  \n",
      " 0   _unit_id               9796 non-null   int64  \n",
      " 1   fav_number             9796 non-null   int64  \n",
      " 2   tweet_count            9796 non-null   int64  \n",
      " 3   profileimage1          9796 non-null   int32  \n",
      " 4   profile_yn:confidence  9796 non-null   float64\n",
      " 5   link_color1            9796 non-null   int32  \n",
      " 6   created1               9796 non-null   int32  \n",
      " 7   gender1                9796 non-null   int32  \n",
      " 8   text                   9796 non-null   object \n",
      " 9   description            9796 non-null   object \n",
      "dtypes: float64(1), int32(4), int64(3), object(2)\n",
      "memory usage: 688.8+ KB\n"
     ]
    }
   ],
   "source": [
    "df2.info()"
   ]
  },
  {
   "cell_type": "markdown",
   "metadata": {},
   "source": [
    "<p><font size=\"4\">Avoiding error\"int cannot be converted to lower\"</font><p>"
   ]
  },
  {
   "cell_type": "code",
   "execution_count": 18,
   "metadata": {},
   "outputs": [
    {
     "name": "stderr",
     "output_type": "stream",
     "text": [
      "C:\\Users\\Administrator\\Downloads\\WPy64-3771\\python-3.7.7.amd64\\lib\\site-packages\\pandas\\core\\generic.py:5303: SettingWithCopyWarning: \n",
      "A value is trying to be set on a copy of a slice from a DataFrame.\n",
      "Try using .loc[row_indexer,col_indexer] = value instead\n",
      "\n",
      "See the caveats in the documentation: https://pandas.pydata.org/pandas-docs/stable/user_guide/indexing.html#returning-a-view-versus-a-copy\n",
      "  self[name] = value\n"
     ]
    }
   ],
   "source": [
    " df2.text = [str (item) for item in df2.text]\n",
    " df2.text = [item for item in df2.text if not isinstance(item, int)]  "
   ]
  },
  {
   "cell_type": "code",
   "execution_count": 19,
   "metadata": {},
   "outputs": [],
   "source": [
    " df2.description = [str (item) for item in df2.description]\n",
    " df2.description = [item for item in df2.description if not isinstance(item, int)]"
   ]
  },
  {
   "cell_type": "markdown",
   "metadata": {},
   "source": [
    "<h3><font size=\"5\">Bag of words</font><h3>\n",
    "<ol><li><p><font size=\"4\">Cleaning data</font><p></li>\n",
    "    <li>Text Processing</li>\n",
    "    <li>Breaking down strings into meaning full words</li>\n",
    "</ol>"
   ]
  },
  {
   "cell_type": "code",
   "execution_count": 20,
   "metadata": {
    "scrolled": false
   },
   "outputs": [
    {
     "name": "stderr",
     "output_type": "stream",
     "text": [
      "C:\\Users\\Administrator\\Downloads\\WPy64-3771\\python-3.7.7.amd64\\lib\\site-packages\\ipykernel_launcher.py:16: SettingWithCopyWarning: \n",
      "A value is trying to be set on a copy of a slice from a DataFrame.\n",
      "Try using .loc[row_indexer,col_indexer] = value instead\n",
      "\n",
      "See the caveats in the documentation: https://pandas.pydata.org/pandas-docs/stable/user_guide/indexing.html#returning-a-view-versus-a-copy\n",
      "  app.launch_new_instance()\n",
      "C:\\Users\\Administrator\\Downloads\\WPy64-3771\\python-3.7.7.amd64\\lib\\site-packages\\ipykernel_launcher.py:17: SettingWithCopyWarning: \n",
      "A value is trying to be set on a copy of a slice from a DataFrame.\n",
      "Try using .loc[row_indexer,col_indexer] = value instead\n",
      "\n",
      "See the caveats in the documentation: https://pandas.pydata.org/pandas-docs/stable/user_guide/indexing.html#returning-a-view-versus-a-copy\n",
      "C:\\Users\\Administrator\\Downloads\\WPy64-3771\\python-3.7.7.amd64\\lib\\site-packages\\ipykernel_launcher.py:22: SettingWithCopyWarning: \n",
      "A value is trying to be set on a copy of a slice from a DataFrame.\n",
      "Try using .loc[row_indexer,col_indexer] = value instead\n",
      "\n",
      "See the caveats in the documentation: https://pandas.pydata.org/pandas-docs/stable/user_guide/indexing.html#returning-a-view-versus-a-copy\n",
      "C:\\Users\\Administrator\\Downloads\\WPy64-3771\\python-3.7.7.amd64\\lib\\site-packages\\ipykernel_launcher.py:25: SettingWithCopyWarning: \n",
      "A value is trying to be set on a copy of a slice from a DataFrame.\n",
      "Try using .loc[row_indexer,col_indexer] = value instead\n",
      "\n",
      "See the caveats in the documentation: https://pandas.pydata.org/pandas-docs/stable/user_guide/indexing.html#returning-a-view-versus-a-copy\n",
      "C:\\Users\\Administrator\\Downloads\\WPy64-3771\\python-3.7.7.amd64\\lib\\site-packages\\ipykernel_launcher.py:26: SettingWithCopyWarning: \n",
      "A value is trying to be set on a copy of a slice from a DataFrame.\n",
      "Try using .loc[row_indexer,col_indexer] = value instead\n",
      "\n",
      "See the caveats in the documentation: https://pandas.pydata.org/pandas-docs/stable/user_guide/indexing.html#returning-a-view-versus-a-copy\n",
      "C:\\Users\\Administrator\\Downloads\\WPy64-3771\\python-3.7.7.amd64\\lib\\site-packages\\ipykernel_launcher.py:27: SettingWithCopyWarning: \n",
      "A value is trying to be set on a copy of a slice from a DataFrame.\n",
      "Try using .loc[row_indexer,col_indexer] = value instead\n",
      "\n",
      "See the caveats in the documentation: https://pandas.pydata.org/pandas-docs/stable/user_guide/indexing.html#returning-a-view-versus-a-copy\n"
     ]
    },
    {
     "data": {
      "text/html": [
       "<div>\n",
       "<style scoped>\n",
       "    .dataframe tbody tr th:only-of-type {\n",
       "        vertical-align: middle;\n",
       "    }\n",
       "\n",
       "    .dataframe tbody tr th {\n",
       "        vertical-align: top;\n",
       "    }\n",
       "\n",
       "    .dataframe thead th {\n",
       "        text-align: right;\n",
       "    }\n",
       "</style>\n",
       "<table border=\"1\" class=\"dataframe\">\n",
       "  <thead>\n",
       "    <tr style=\"text-align: right;\">\n",
       "      <th></th>\n",
       "      <th>_unit_id</th>\n",
       "      <th>fav_number</th>\n",
       "      <th>tweet_count</th>\n",
       "      <th>profileimage1</th>\n",
       "      <th>profile_yn:confidence</th>\n",
       "      <th>link_color1</th>\n",
       "      <th>created1</th>\n",
       "      <th>gender1</th>\n",
       "      <th>Tweets</th>\n",
       "      <th>Description</th>\n",
       "    </tr>\n",
       "  </thead>\n",
       "  <tbody>\n",
       "    <tr>\n",
       "      <th>0</th>\n",
       "      <td>815719226</td>\n",
       "      <td>0</td>\n",
       "      <td>110964</td>\n",
       "      <td>1205</td>\n",
       "      <td>1.0</td>\n",
       "      <td>176</td>\n",
       "      <td>510</td>\n",
       "      <td>2</td>\n",
       "      <td>[robbie, e, responds, critics, win, eddie, edw...</td>\n",
       "      <td>[sing, rhythm]</td>\n",
       "    </tr>\n",
       "    <tr>\n",
       "      <th>1</th>\n",
       "      <td>815719227</td>\n",
       "      <td>68</td>\n",
       "      <td>7471</td>\n",
       "      <td>2258</td>\n",
       "      <td>1.0</td>\n",
       "      <td>56</td>\n",
       "      <td>226</td>\n",
       "      <td>2</td>\n",
       "      <td>[ûïit, felt, like, friends, living, story, û, ...</td>\n",
       "      <td>[author, novels, filled, family, drama, romance]</td>\n",
       "    </tr>\n",
       "    <tr>\n",
       "      <th>4</th>\n",
       "      <td>815719230</td>\n",
       "      <td>37318</td>\n",
       "      <td>31462</td>\n",
       "      <td>2582</td>\n",
       "      <td>1.0</td>\n",
       "      <td>691</td>\n",
       "      <td>1032</td>\n",
       "      <td>1</td>\n",
       "      <td>[watching, neighbours, sky, catching, neighbs,...</td>\n",
       "      <td>[ricky, wilson, best, frontman, kaiser, chiefs...</td>\n",
       "    </tr>\n",
       "    <tr>\n",
       "      <th>5</th>\n",
       "      <td>815719231</td>\n",
       "      <td>3901</td>\n",
       "      <td>20036</td>\n",
       "      <td>7401</td>\n",
       "      <td>1.0</td>\n",
       "      <td>1820</td>\n",
       "      <td>764</td>\n",
       "      <td>1</td>\n",
       "      <td>[ive, seen, people, train, lamps, chairs, tvs,...</td>\n",
       "      <td>[know]</td>\n",
       "    </tr>\n",
       "    <tr>\n",
       "      <th>6</th>\n",
       "      <td>815719232</td>\n",
       "      <td>4122</td>\n",
       "      <td>13354</td>\n",
       "      <td>2145</td>\n",
       "      <td>1.0</td>\n",
       "      <td>535</td>\n",
       "      <td>1097</td>\n",
       "      <td>0</td>\n",
       "      <td>[bpackengineer, thank, patience, take, care, i...</td>\n",
       "      <td>[global, marketplace, images, videos, music, s...</td>\n",
       "    </tr>\n",
       "    <tr>\n",
       "      <th>...</th>\n",
       "      <td>...</td>\n",
       "      <td>...</td>\n",
       "      <td>...</td>\n",
       "      <td>...</td>\n",
       "      <td>...</td>\n",
       "      <td>...</td>\n",
       "      <td>...</td>\n",
       "      <td>...</td>\n",
       "      <td>...</td>\n",
       "      <td>...</td>\n",
       "    </tr>\n",
       "    <tr>\n",
       "      <th>19994</th>\n",
       "      <td>815739589</td>\n",
       "      <td>3745</td>\n",
       "      <td>10727</td>\n",
       "      <td>8739</td>\n",
       "      <td>1.0</td>\n",
       "      <td>1897</td>\n",
       "      <td>1751</td>\n",
       "      <td>1</td>\n",
       "      <td>[nothing, like, slipping, school, running, car...</td>\n",
       "      <td>[let, faith, bigger, fear, ï, send]</td>\n",
       "    </tr>\n",
       "    <tr>\n",
       "      <th>19995</th>\n",
       "      <td>815739590</td>\n",
       "      <td>33834</td>\n",
       "      <td>29190</td>\n",
       "      <td>6296</td>\n",
       "      <td>1.0</td>\n",
       "      <td>1315</td>\n",
       "      <td>117</td>\n",
       "      <td>2</td>\n",
       "      <td>[seriously, love, trent, justin, would, anythi...</td>\n",
       "      <td>[xxi]</td>\n",
       "    </tr>\n",
       "    <tr>\n",
       "      <th>19996</th>\n",
       "      <td>815739591</td>\n",
       "      <td>2462</td>\n",
       "      <td>11117</td>\n",
       "      <td>4244</td>\n",
       "      <td>1.0</td>\n",
       "      <td>56</td>\n",
       "      <td>462</td>\n",
       "      <td>2</td>\n",
       "      <td>[one, person, look, like, beautiful, thing, in...</td>\n",
       "      <td>[money, making, take, day, time, r, p, july, t...</td>\n",
       "    </tr>\n",
       "    <tr>\n",
       "      <th>19997</th>\n",
       "      <td>815739592</td>\n",
       "      <td>1855</td>\n",
       "      <td>5640</td>\n",
       "      <td>7760</td>\n",
       "      <td>1.0</td>\n",
       "      <td>940</td>\n",
       "      <td>1025</td>\n",
       "      <td>1</td>\n",
       "      <td>[wedding, photobombs, made, bride, groom, day,...</td>\n",
       "      <td>[quote, insert, movie, better, friends]</td>\n",
       "    </tr>\n",
       "    <tr>\n",
       "      <th>19999</th>\n",
       "      <td>815739594</td>\n",
       "      <td>14771</td>\n",
       "      <td>17851</td>\n",
       "      <td>3318</td>\n",
       "      <td>1.0</td>\n",
       "      <td>56</td>\n",
       "      <td>1173</td>\n",
       "      <td>0</td>\n",
       "      <td>[toddrose, sadsackjetsfan, yes, call, great, d...</td>\n",
       "      <td>[everything, winnipeg]</td>\n",
       "    </tr>\n",
       "  </tbody>\n",
       "</table>\n",
       "<p>9796 rows × 10 columns</p>\n",
       "</div>"
      ],
      "text/plain": [
       "        _unit_id  fav_number  tweet_count  profileimage1  \\\n",
       "0      815719226           0       110964           1205   \n",
       "1      815719227          68         7471           2258   \n",
       "4      815719230       37318        31462           2582   \n",
       "5      815719231        3901        20036           7401   \n",
       "6      815719232        4122        13354           2145   \n",
       "...          ...         ...          ...            ...   \n",
       "19994  815739589        3745        10727           8739   \n",
       "19995  815739590       33834        29190           6296   \n",
       "19996  815739591        2462        11117           4244   \n",
       "19997  815739592        1855         5640           7760   \n",
       "19999  815739594       14771        17851           3318   \n",
       "\n",
       "       profile_yn:confidence  link_color1  created1  gender1  \\\n",
       "0                        1.0          176       510        2   \n",
       "1                        1.0           56       226        2   \n",
       "4                        1.0          691      1032        1   \n",
       "5                        1.0         1820       764        1   \n",
       "6                        1.0          535      1097        0   \n",
       "...                      ...          ...       ...      ...   \n",
       "19994                    1.0         1897      1751        1   \n",
       "19995                    1.0         1315       117        2   \n",
       "19996                    1.0           56       462        2   \n",
       "19997                    1.0          940      1025        1   \n",
       "19999                    1.0           56      1173        0   \n",
       "\n",
       "                                                  Tweets  \\\n",
       "0      [robbie, e, responds, critics, win, eddie, edw...   \n",
       "1      [ûïit, felt, like, friends, living, story, û, ...   \n",
       "4      [watching, neighbours, sky, catching, neighbs,...   \n",
       "5      [ive, seen, people, train, lamps, chairs, tvs,...   \n",
       "6      [bpackengineer, thank, patience, take, care, i...   \n",
       "...                                                  ...   \n",
       "19994  [nothing, like, slipping, school, running, car...   \n",
       "19995  [seriously, love, trent, justin, would, anythi...   \n",
       "19996  [one, person, look, like, beautiful, thing, in...   \n",
       "19997  [wedding, photobombs, made, bride, groom, day,...   \n",
       "19999  [toddrose, sadsackjetsfan, yes, call, great, d...   \n",
       "\n",
       "                                             Description  \n",
       "0                                         [sing, rhythm]  \n",
       "1       [author, novels, filled, family, drama, romance]  \n",
       "4      [ricky, wilson, best, frontman, kaiser, chiefs...  \n",
       "5                                                 [know]  \n",
       "6      [global, marketplace, images, videos, music, s...  \n",
       "...                                                  ...  \n",
       "19994                [let, faith, bigger, fear, ï, send]  \n",
       "19995                                              [xxi]  \n",
       "19996  [money, making, take, day, time, r, p, july, t...  \n",
       "19997            [quote, insert, movie, better, friends]  \n",
       "19999                             [everything, winnipeg]  \n",
       "\n",
       "[9796 rows x 10 columns]"
      ]
     },
     "execution_count": 20,
     "metadata": {},
     "output_type": "execute_result"
    }
   ],
   "source": [
    "\n",
    "def cleaning(s):\n",
    "    s = str(s)\n",
    "    s = s.lower()\n",
    "    s = re.sub('\\s\\W',' ',s)\n",
    "    s = re.sub('\\W,\\s',' ',s)\n",
    "    s = re.sub(r'[^\\w]', ' ', s)\n",
    "    s = re.sub(\"\\d+\", \"\", s)\n",
    "    s = re.sub('\\s+',' ',s)\n",
    "    s = re.sub('[!@#$_]', '', s)\n",
    "    s = s.replace(\"co\",\"\")\n",
    "    s = s.replace(\"https\",\"\")\n",
    "    s = s.replace(\",\",\"\")\n",
    "    s = s.replace(\"[\\w*\",\" \")\n",
    "    return s\n",
    "\n",
    "df2['Tweets'] = [cleaning(s) for s in df2['text']]\n",
    "df2['Description'] = [cleaning(s) for s in df2['description']]\n",
    "\n",
    "from nltk.corpus import stopwords\n",
    "#searching a set is much faster than searching a list, so convert the stop words to a set\n",
    "stop = set(stopwords.words('english'))\n",
    "df2['Tweets'] = df2['Tweets'].str.split()\n",
    "# Remove stop words\n",
    "#Join the words back into one string separated by space, and return the result.\n",
    "df2['Tweets'] = df2['Tweets'].apply(lambda x : [item for item in x if item not in stop])\n",
    "df2['Description'] = df2['Description'].str.lower().str.split()\n",
    "df2['Description'] = df2['Description'].apply(lambda x : [item for item in x if item not in stop])\n",
    "df2=df2.drop(['text', 'description'], axis=1)\n",
    "df2"
   ]
  },
  {
   "cell_type": "code",
   "execution_count": 21,
   "metadata": {},
   "outputs": [],
   "source": [
    "u= []\n",
    "for tweet in df2['Tweets']:\n",
    "    me = \"\"\n",
    "    for word in tweet:\n",
    "        if not word=='http' and not word=='nan' and not word=='û' and not word=='êû':\n",
    "            me += word+\" \"\n",
    "    u.append(me)\n",
    "df2['clean_Tweets'] = u\n",
    "\n",
    "\n",
    "t = []\n",
    "for tweet in df2['Description']:\n",
    "    me = \"\"\n",
    "    for word in tweet:\n",
    "        if not word=='http' and not word=='nan' and not word=='û' and not word=='êû':\n",
    "            me += word+\" \"\n",
    "    t.append(me)\n",
    "df2['clean_description'] = t"
   ]
  },
  {
   "cell_type": "code",
   "execution_count": 22,
   "metadata": {},
   "outputs": [],
   "source": [
    " df2.clean_Tweets = [str (item) for item in df2.clean_Tweets]\n",
    " df2.clean_Tweets = [item for item in df2.clean_Tweets if not isinstance(item, int)]  \n",
    " df2.clean_description = [str (item) for item in df2.clean_description]\n",
    " df2.clean_description = [item for item in df2.clean_description if not isinstance(item, int)]  "
   ]
  },
  {
   "cell_type": "code",
   "execution_count": 23,
   "metadata": {},
   "outputs": [
    {
     "data": {
      "text/html": [
       "<div>\n",
       "<style scoped>\n",
       "    .dataframe tbody tr th:only-of-type {\n",
       "        vertical-align: middle;\n",
       "    }\n",
       "\n",
       "    .dataframe tbody tr th {\n",
       "        vertical-align: top;\n",
       "    }\n",
       "\n",
       "    .dataframe thead th {\n",
       "        text-align: right;\n",
       "    }\n",
       "</style>\n",
       "<table border=\"1\" class=\"dataframe\">\n",
       "  <thead>\n",
       "    <tr style=\"text-align: right;\">\n",
       "      <th></th>\n",
       "      <th>_unit_id</th>\n",
       "      <th>fav_number</th>\n",
       "      <th>tweet_count</th>\n",
       "      <th>profileimage1</th>\n",
       "      <th>profile_yn:confidence</th>\n",
       "      <th>link_color1</th>\n",
       "      <th>created1</th>\n",
       "      <th>gender1</th>\n",
       "      <th>Tweets</th>\n",
       "      <th>Description</th>\n",
       "      <th>clean_Tweets</th>\n",
       "      <th>clean_description</th>\n",
       "    </tr>\n",
       "  </thead>\n",
       "  <tbody>\n",
       "    <tr>\n",
       "      <th>0</th>\n",
       "      <td>815719226</td>\n",
       "      <td>0</td>\n",
       "      <td>110964</td>\n",
       "      <td>1205</td>\n",
       "      <td>1.0</td>\n",
       "      <td>176</td>\n",
       "      <td>510</td>\n",
       "      <td>2</td>\n",
       "      <td>[robbie, e, responds, critics, win, eddie, edw...</td>\n",
       "      <td>[sing, rhythm]</td>\n",
       "      <td>robbie e responds critics win eddie edwards wo...</td>\n",
       "      <td>sing rhythm</td>\n",
       "    </tr>\n",
       "    <tr>\n",
       "      <th>1</th>\n",
       "      <td>815719227</td>\n",
       "      <td>68</td>\n",
       "      <td>7471</td>\n",
       "      <td>2258</td>\n",
       "      <td>1.0</td>\n",
       "      <td>56</td>\n",
       "      <td>226</td>\n",
       "      <td>2</td>\n",
       "      <td>[ûïit, felt, like, friends, living, story, û, ...</td>\n",
       "      <td>[author, novels, filled, family, drama, romance]</td>\n",
       "      <td>ûïit felt like friends living story arngeyhno ...</td>\n",
       "      <td>author novels filled family drama romance</td>\n",
       "    </tr>\n",
       "    <tr>\n",
       "      <th>4</th>\n",
       "      <td>815719230</td>\n",
       "      <td>37318</td>\n",
       "      <td>31462</td>\n",
       "      <td>2582</td>\n",
       "      <td>1.0</td>\n",
       "      <td>691</td>\n",
       "      <td>1032</td>\n",
       "      <td>1</td>\n",
       "      <td>[watching, neighbours, sky, catching, neighbs,...</td>\n",
       "      <td>[ricky, wilson, best, frontman, kaiser, chiefs...</td>\n",
       "      <td>watching neighbours sky catching neighbs xxx ù...</td>\n",
       "      <td>ricky wilson best frontman kaiser chiefs best ...</td>\n",
       "    </tr>\n",
       "    <tr>\n",
       "      <th>5</th>\n",
       "      <td>815719231</td>\n",
       "      <td>3901</td>\n",
       "      <td>20036</td>\n",
       "      <td>7401</td>\n",
       "      <td>1.0</td>\n",
       "      <td>1820</td>\n",
       "      <td>764</td>\n",
       "      <td>1</td>\n",
       "      <td>[ive, seen, people, train, lamps, chairs, tvs,...</td>\n",
       "      <td>[know]</td>\n",
       "      <td>ive seen people train lamps chairs tvs etc wzf...</td>\n",
       "      <td>know</td>\n",
       "    </tr>\n",
       "    <tr>\n",
       "      <th>6</th>\n",
       "      <td>815719232</td>\n",
       "      <td>4122</td>\n",
       "      <td>13354</td>\n",
       "      <td>2145</td>\n",
       "      <td>1.0</td>\n",
       "      <td>535</td>\n",
       "      <td>1097</td>\n",
       "      <td>0</td>\n",
       "      <td>[bpackengineer, thank, patience, take, care, i...</td>\n",
       "      <td>[global, marketplace, images, videos, music, s...</td>\n",
       "      <td>bpackengineer thank patience take care issue</td>\n",
       "      <td>global marketplace images videos music sharing...</td>\n",
       "    </tr>\n",
       "  </tbody>\n",
       "</table>\n",
       "</div>"
      ],
      "text/plain": [
       "    _unit_id  fav_number  tweet_count  profileimage1  profile_yn:confidence  \\\n",
       "0  815719226           0       110964           1205                    1.0   \n",
       "1  815719227          68         7471           2258                    1.0   \n",
       "4  815719230       37318        31462           2582                    1.0   \n",
       "5  815719231        3901        20036           7401                    1.0   \n",
       "6  815719232        4122        13354           2145                    1.0   \n",
       "\n",
       "   link_color1  created1  gender1  \\\n",
       "0          176       510        2   \n",
       "1           56       226        2   \n",
       "4          691      1032        1   \n",
       "5         1820       764        1   \n",
       "6          535      1097        0   \n",
       "\n",
       "                                              Tweets  \\\n",
       "0  [robbie, e, responds, critics, win, eddie, edw...   \n",
       "1  [ûïit, felt, like, friends, living, story, û, ...   \n",
       "4  [watching, neighbours, sky, catching, neighbs,...   \n",
       "5  [ive, seen, people, train, lamps, chairs, tvs,...   \n",
       "6  [bpackengineer, thank, patience, take, care, i...   \n",
       "\n",
       "                                         Description  \\\n",
       "0                                     [sing, rhythm]   \n",
       "1   [author, novels, filled, family, drama, romance]   \n",
       "4  [ricky, wilson, best, frontman, kaiser, chiefs...   \n",
       "5                                             [know]   \n",
       "6  [global, marketplace, images, videos, music, s...   \n",
       "\n",
       "                                        clean_Tweets  \\\n",
       "0  robbie e responds critics win eddie edwards wo...   \n",
       "1  ûïit felt like friends living story arngeyhno ...   \n",
       "4  watching neighbours sky catching neighbs xxx ù...   \n",
       "5  ive seen people train lamps chairs tvs etc wzf...   \n",
       "6      bpackengineer thank patience take care issue    \n",
       "\n",
       "                                   clean_description  \n",
       "0                                       sing rhythm   \n",
       "1         author novels filled family drama romance   \n",
       "4  ricky wilson best frontman kaiser chiefs best ...  \n",
       "5                                              know   \n",
       "6  global marketplace images videos music sharing...  "
      ]
     },
     "execution_count": 23,
     "metadata": {},
     "output_type": "execute_result"
    }
   ],
   "source": [
    "df2.head()"
   ]
  },
  {
   "cell_type": "markdown",
   "metadata": {},
   "source": [
    "<p><font size=\"5\">Most common words used by Males</font><p>"
   ]
  },
  {
   "cell_type": "code",
   "execution_count": 24,
   "metadata": {},
   "outputs": [],
   "source": [
    "Male = df2[df1['gender'] == 'male']\n",
    "Female = df2[df1['gender'] == 'female']\n",
    "Male_words = pd.Series(' '.join(Male['Tweets'].astype(str)).lower().split(\" \")).value_counts()[:45]\n",
    "Female_words = pd.Series(' '.join(Female['Tweets'].astype(str)).lower().split(\" \")).value_counts()[:45]"
   ]
  },
  {
   "cell_type": "code",
   "execution_count": 25,
   "metadata": {},
   "outputs": [
    {
     "data": {
      "image/png": "[encoded data removed]",
      "text/plain": [
       "<Figure size 432x288 with 1 Axes>"
      ]
     },
     "metadata": {
      "needs_background": "light"
     },
     "output_type": "display_data"
    }
   ],
   "source": [
    "Male_words.plot.bar(rot=70, title=\"Most common words used by males\");\n",
    "plt.rcParams['figure.figsize']= (10,6)\n",
    "plt.show(block=True);"
   ]
  },
  {
   "cell_type": "code",
   "execution_count": 52,
   "metadata": {},
   "outputs": [
    {
     "data": {
      "text/plain": [
       "'ù',         206\n",
       "'like',      174\n",
       "'get',       167\n",
       "'time',      120\n",
       "'one',       111\n",
       "'û',         106\n",
       "'go',         94\n",
       "'new',        88\n",
       "'people',     88\n",
       "'âù',         84\n",
       "'know',       81\n",
       "'good',       80\n",
       "'love',       79\n",
       "'back',       78\n",
       "'amp',        77\n",
       "'got',        76\n",
       "'see',        75\n",
       "'make',       75\n",
       "'need',       72\n",
       "'think',      72\n",
       "'day',        71\n",
       "'best',       65\n",
       "'last',       65\n",
       "'would',      64\n",
       "'still',      63\n",
       "'way',        63\n",
       "'via',        60\n",
       "'u',          58\n",
       "'ù']          57\n",
       "'game',       56\n",
       "'shit',       56\n",
       "'want',       56\n",
       "'really',     53\n",
       "'next',       53\n",
       "'going',      52\n",
       "'year',       50\n",
       "'first',      50\n",
       "'great',      50\n",
       "'today',      50\n",
       "'well',       50\n",
       "'even',       48\n",
       "'world',      48\n",
       "'ü',          47\n",
       "'let',        47\n",
       "'say',        43\n",
       "dtype: int64"
      ]
     },
     "execution_count": 52,
     "metadata": {},
     "output_type": "execute_result"
    }
   ],
   "source": [
    "Male_words"
   ]
  },
  {
   "cell_type": "markdown",
   "metadata": {},
   "source": [
    "<p><font size=\"5\">Most common words used by Females</font><p>"
   ]
  },
  {
   "cell_type": "code",
   "execution_count": 26,
   "metadata": {},
   "outputs": [
    {
     "data": {
      "image/png": "[encoded data removed]",
      "text/plain": [
       "<Figure size 720x432 with 1 Axes>"
      ]
     },
     "metadata": {
      "needs_background": "light"
     },
     "output_type": "display_data"
    }
   ],
   "source": [
    "Female_words.plot.bar(rot=70, title=\"Most common words used by females\");\n",
    "plt.rcParams['figure.figsize']= (10,6)\n",
    "plt.show(block=True);"
   ]
  },
  {
   "cell_type": "code",
   "execution_count": 53,
   "metadata": {},
   "outputs": [
    {
     "data": {
      "text/plain": [
       "'ù',         664\n",
       "'like',      253\n",
       "'get',       207\n",
       "'ù']         162\n",
       "'one',       156\n",
       "'day',       147\n",
       "'love',      135\n",
       "'âù',        128\n",
       "'û',         120\n",
       "'amp',       120\n",
       "'go',        119\n",
       "'time',      116\n",
       "'got',       111\n",
       "'ü',         111\n",
       "'know',      103\n",
       "'people',    101\n",
       "'last',       96\n",
       "'back',       93\n",
       "'still',      93\n",
       "'â']          90\n",
       "'u',          86\n",
       "'new',        84\n",
       "'best',       83\n",
       "'good',       82\n",
       "'make',       80\n",
       "'makes',      75\n",
       "'even',       75\n",
       "'see',        74\n",
       "'today',      73\n",
       "'want',       73\n",
       "'life',       72\n",
       "'really',     72\n",
       "'need',       71\n",
       "'take',       71\n",
       "'work',       64\n",
       "'would',      63\n",
       "'never',      63\n",
       "'right',      60\n",
       "'much',       59\n",
       "'home',       59\n",
       "'think',      57\n",
       "'going',      56\n",
       "'im',         56\n",
       "'world',      56\n",
       "'ever',       54\n",
       "dtype: int64"
      ]
     },
     "execution_count": 53,
     "metadata": {},
     "output_type": "execute_result"
    }
   ],
   "source": [
    "Female_words"
   ]
  },
  {
   "cell_type": "markdown",
   "metadata": {},
   "source": [
    "<p><font size=\"5\">Timings in a day when most Females tweet</font><p>"
   ]
  },
  {
   "cell_type": "code",
   "execution_count": 27,
   "metadata": {},
   "outputs": [],
   "source": [
    "\n",
    "df1=df1[df1['tweet_created'].notnull()]\n",
    "df1['tweet_created']=pd.to_datetime(df1['tweet_created'])"
   ]
  },
  {
   "cell_type": "code",
   "execution_count": 28,
   "metadata": {},
   "outputs": [
    {
     "name": "stdout",
     "output_type": "stream",
     "text": [
      "12:40:00    1371\n",
      "13:19:00    1364\n",
      "13:20:00     813\n",
      "12:39:00     283\n",
      "13:18:00      80\n",
      "Name: tweet_created, dtype: int64\n"
     ]
    },
    {
     "data": {
      "text/plain": [
       "<matplotlib.axes._subplots.AxesSubplot at 0x1eaca3b2388>"
      ]
     },
     "execution_count": 28,
     "metadata": {},
     "output_type": "execute_result"
    },
    {
     "data": {
      "image/png": "[encoded data removed]",
      "text/plain": [
       "<Figure size 720x432 with 1 Axes>"
      ]
     },
     "metadata": {
      "needs_background": "light"
     },
     "output_type": "display_data"
    }
   ],
   "source": [
    "fm=df1[df1.gender=='female']\n",
    "\n",
    "fm=fm.tweet_created.dt.time\n",
    "print(fm.value_counts())\n",
    "fm=fm.value_counts()\n",
    "fm.plot(kind='bar',stacked=True ,color='yellow')"
   ]
  },
  {
   "cell_type": "markdown",
   "metadata": {},
   "source": [
    "<p><font size=\"5\">Timings in a when most Males tweet</font><p>"
   ]
  },
  {
   "cell_type": "code",
   "execution_count": 29,
   "metadata": {},
   "outputs": [
    {
     "name": "stdout",
     "output_type": "stream",
     "text": [
      "12:40:00    1413\n",
      "13:19:00     984\n",
      "13:20:00     601\n",
      "12:39:00     298\n",
      "13:18:00      51\n",
      "Name: tweet_created, dtype: int64\n"
     ]
    },
    {
     "data": {
      "text/plain": [
       "<matplotlib.axes._subplots.AxesSubplot at 0x1eaca261188>"
      ]
     },
     "execution_count": 29,
     "metadata": {},
     "output_type": "execute_result"
    },
    {
     "data": {
      "image/png": "[encoded data removed]",
      "text/plain": [
       "<Figure size 720x432 with 1 Axes>"
      ]
     },
     "metadata": {
      "needs_background": "light"
     },
     "output_type": "display_data"
    }
   ],
   "source": [
    "ma=df1[df1.gender=='male']\n",
    "ma=ma.tweet_created.dt.time\n",
    "print(ma.value_counts())\n",
    "ma=ma.value_counts()\n",
    "ma.plot(kind='bar',stacked=True ,color='lightgreen')"
   ]
  },
  {
   "cell_type": "code",
   "execution_count": 30,
   "metadata": {},
   "outputs": [],
   "source": [
    "# from sklearn.feature_extraction.text import CountVectorizer\n",
    "# vectorizer = CountVectorizer(analyzer = \"word\",   \\\n",
    "#                              tokenizer = None,    \\\n",
    "#                              preprocessor = None, \\\n",
    "#                              stop_words = None,   \\\n",
    "#                              max_features = 5000,lowercase=False) \n",
    "\n",
    "# # fit_transform() does two functions: First, it fits the model\n",
    "# # and learns the vocabulary; second, it transforms our training data\n",
    "# # into feature vectors. The input to fit_transform should be a list of \n",
    "# # strings.\n",
    "# train_Tweet_features = vectorizer.fit_transform(df2.clean_Tweets)\n",
    "\n",
    "# # Numpy arrays are easy to work with, so convert the result to an \n",
    "# # array\n",
    "# # train_Tweet_features = train_Tweet_features.toarray()\n",
    "\n",
    "# # see final the clean data\n",
    "# print (train_Tweet_features.shape)"
   ]
  },
  {
   "cell_type": "markdown",
   "metadata": {},
   "source": [
    "<h2><font size=\"6\">Logistic Regression</font><h2>"
   ]
  },
  {
   "cell_type": "code",
   "execution_count": 31,
   "metadata": {},
   "outputs": [],
   "source": [
    "from sklearn.feature_extraction.text import CountVectorizer\n",
    "from sklearn.linear_model import LogisticRegression\n",
    "lr = LogisticRegression(max_iter=10000)\n",
    "from sklearn.model_selection import train_test_split\n",
    "from sklearn.preprocessing import LabelEncoder"
   ]
  },
  {
   "cell_type": "code",
   "execution_count": 32,
   "metadata": {},
   "outputs": [],
   "source": [
    "le = LabelEncoder()\n",
    "y = le.fit_transform(df2['gender1'])"
   ]
  },
  {
   "cell_type": "code",
   "execution_count": 33,
   "metadata": {},
   "outputs": [],
   "source": [
    "cv= CountVectorizer(binary=True, max_df=0.97)\n",
    "X = cv.fit_transform(df2['clean_Tweets'].values)\n",
    "X=cv.fit_transform(df2['clean_description'].values)\n",
    "\n"
   ]
  },
  {
   "cell_type": "code",
   "execution_count": 34,
   "metadata": {},
   "outputs": [
    {
     "data": {
      "text/plain": [
       "LogisticRegression(max_iter=10000)"
      ]
     },
     "execution_count": 34,
     "metadata": {},
     "output_type": "execute_result"
    }
   ],
   "source": [
    "X_train,X_test,Y_train,Y_test = train_test_split(X,y)\n",
    "\n",
    "lr.fit(X_train,Y_train)"
   ]
  },
  {
   "cell_type": "code",
   "execution_count": 35,
   "metadata": {},
   "outputs": [
    {
     "data": {
      "text/plain": [
       "0.8953314277936573"
      ]
     },
     "execution_count": 35,
     "metadata": {},
     "output_type": "execute_result"
    }
   ],
   "source": [
    "lr.score(X_train,Y_train)"
   ]
  },
  {
   "cell_type": "markdown",
   "metadata": {},
   "source": [
    "<h2><font size=\"6\">Random Forest</font><h2>"
   ]
  },
  {
   "cell_type": "code",
   "execution_count": 36,
   "metadata": {},
   "outputs": [],
   "source": [
    "from sklearn.model_selection import train_test_split\n",
    "from sklearn.ensemble import RandomForestClassifier\n",
    "from sklearn.metrics import accuracy_score\n",
    "from sklearn.metrics import classification_report"
   ]
  },
  {
   "cell_type": "code",
   "execution_count": 37,
   "metadata": {},
   "outputs": [],
   "source": [
    "X=df2[['_unit_id', 'fav_number', 'tweet_count', 'profileimage1',  'profile_yn:confidence',\n",
    "       'link_color1', 'created1']]\n",
    "Y=df2['gender1']"
   ]
  },
  {
   "cell_type": "code",
   "execution_count": 38,
   "metadata": {},
   "outputs": [],
   "source": [
    "X_train, X_test, Y_train, Y_test = train_test_split(X, Y)"
   ]
  },
  {
   "cell_type": "code",
   "execution_count": 39,
   "metadata": {},
   "outputs": [
    {
     "data": {
      "text/plain": [
       "RandomForestClassifier(n_estimators=200)"
      ]
     },
     "execution_count": 39,
     "metadata": {},
     "output_type": "execute_result"
    }
   ],
   "source": [
    "rfc = RandomForestClassifier(n_estimators = 200)\n",
    "rfc.fit(X_train, Y_train)"
   ]
  },
  {
   "cell_type": "code",
   "execution_count": 40,
   "metadata": {},
   "outputs": [],
   "source": [
    "Y_pred = rfc.predict(X_test)"
   ]
  },
  {
   "cell_type": "code",
   "execution_count": 41,
   "metadata": {},
   "outputs": [
    {
     "data": {
      "text/plain": [
       "0.6031033074724377"
      ]
     },
     "execution_count": 41,
     "metadata": {},
     "output_type": "execute_result"
    }
   ],
   "source": [
    "accuracy_score(Y_test, Y_pred)"
   ]
  },
  {
   "cell_type": "code",
   "execution_count": 42,
   "metadata": {},
   "outputs": [
    {
     "name": "stdout",
     "output_type": "stream",
     "text": [
      "              precision    recall  f1-score   support\n",
      "\n",
      "           0       0.68      0.66      0.67       627\n",
      "           1       0.63      0.67      0.65       991\n",
      "           2       0.51      0.48      0.49       831\n",
      "\n",
      "    accuracy                           0.60      2449\n",
      "   macro avg       0.61      0.60      0.60      2449\n",
      "weighted avg       0.60      0.60      0.60      2449\n",
      "\n"
     ]
    }
   ],
   "source": [
    "print(classification_report(Y_test, Y_pred))"
   ]
  },
  {
   "cell_type": "markdown",
   "metadata": {},
   "source": [
    "<h2><font size=\"6\">Naives Bayes</font><h2>"
   ]
  },
  {
   "cell_type": "code",
   "execution_count": 43,
   "metadata": {},
   "outputs": [],
   "source": [
    "import matplotlib.pyplot as plt\n",
    "import random\n",
    "from sklearn.naive_bayes import MultinomialNB\n",
    "from sklearn.svm import SVC\n",
    "from sklearn.preprocessing import StandardScaler\n",
    "from sklearn.naive_bayes import GaussianNB \n",
    "\n",
    "  "
   ]
  },
  {
   "cell_type": "code",
   "execution_count": 44,
   "metadata": {},
   "outputs": [],
   "source": [
    "chosen_rows = df1[df1[\"gender\"].isin([\"male\", \"female\"]) & (df1[\"gender:confidence\"] > 0.99)].index.tolist()"
   ]
  },
  {
   "cell_type": "code",
   "execution_count": 45,
   "metadata": {},
   "outputs": [
    {
     "data": {
      "text/plain": [
       "7258"
      ]
     },
     "execution_count": 45,
     "metadata": {},
     "output_type": "execute_result"
    }
   ],
   "source": [
    "n_samples = len(chosen_rows)\n",
    "random.shuffle(chosen_rows)\n",
    "test_size = round(n_samples*0.2)\n",
    "test_rows = chosen_rows[:test_size]\n",
    "val_rows = chosen_rows[test_size:2*test_size]\n",
    "train_rows = chosen_rows[2*test_size:]\n",
    "len(chosen_rows)"
   ]
  },
  {
   "cell_type": "code",
   "execution_count": 46,
   "metadata": {},
   "outputs": [],
   "source": [
    "def normalize_text(text):\n",
    "    \n",
    "    text = re.sub(r'[^\\x00-\\x7F]+',' ', text)\n",
    "    text = re.sub(r'https?:\\/\\/.*[\\r\\n]*', ' ', text)\n",
    "    text = re.sub(r'[?!+%{}:;.,\"\\'()\\[\\]_]', '',text)\n",
    "    text = re.sub(r'\\s+',' ',text)\n",
    "    return text"
   ]
  },
  {
   "cell_type": "code",
   "execution_count": 47,
   "metadata": {},
   "outputs": [],
   "source": [
    "df1[\"text_norm\"] = [normalize_text(text) for text in df1[\"text\"]]"
   ]
  },
  {
   "cell_type": "code",
   "execution_count": 48,
   "metadata": {},
   "outputs": [],
   "source": [
    "vectorizer = CountVectorizer()\n",
    "vectorizer = vectorizer.fit(df1.loc[train_rows, :][\"text_norm\"])"
   ]
  },
  {
   "cell_type": "code",
   "execution_count": 49,
   "metadata": {},
   "outputs": [],
   "source": [
    "encoder = LabelEncoder()\n",
    "X_train = vectorizer.transform(df1.loc[train_rows, \"text_norm\"])\n",
    "X_val = vectorizer.transform(df1.loc[val_rows, \"text_norm\"])\n",
    "y_train = encoder.fit_transform(df1.loc[train_rows, \"gender\"])\n",
    "y_val = encoder.transform(df1.loc[val_rows, \"gender\"])"
   ]
  },
  {
   "cell_type": "code",
   "execution_count": 50,
   "metadata": {},
   "outputs": [],
   "source": [
    "nb = MultinomialNB()\n",
    "nb = nb.fit(X_train, y_train)"
   ]
  },
  {
   "cell_type": "code",
   "execution_count": 51,
   "metadata": {},
   "outputs": [
    {
     "data": {
      "text/plain": [
       "0.6081267217630854"
      ]
     },
     "execution_count": 51,
     "metadata": {},
     "output_type": "execute_result"
    }
   ],
   "source": [
    "accuracy_score(y_val, nb.predict(X_val))"
   ]
  }
 ],
 "metadata": {
  "kernelspec": {
   "display_name": "Python 3",
   "language": "python",
   "name": "python3"
  },
  "language_info": {
   "codemirror_mode": {
    "name": "ipython",
    "version": 3
   },
   "file_extension": ".py",
   "mimetype": "text/x-python",
   "name": "python",
   "nbconvert_exporter": "python",
   "pygments_lexer": "ipython3",
   "version": "3.7.6"
  }
 },
 "nbformat": 4,
 "nbformat_minor": 4
}
