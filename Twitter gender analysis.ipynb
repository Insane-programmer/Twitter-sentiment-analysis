{
 "cells": [
  {
   "cell_type": "code",
   "execution_count": 1,
   "metadata": {},
   "outputs": [],
   "source": [
    "import pandas as pd\n",
    "import numpy as np\n",
    "import matplotlib.pyplot as plt\n",
    "import seaborn as sns\n",
    "from sklearn.model_selection import train_test_split\n",
    "from sklearn.pipeline import Pipeline\n",
    "from sklearn.feature_extraction.text import TfidfVectorizer\n",
    "from sklearn.metrics import accuracy_score, confusion_matrix, classification_report\n",
    "%matplotlib inline"
   ]
  },
  {
   "cell_type": "code",
   "execution_count": 2,
   "metadata": {},
   "outputs": [],
   "source": [
    "##Loading the dataset\n",
    "df=pd.read_csv('information.csv',encoding='latin1')"
   ]
  },
  {
   "cell_type": "code",
   "execution_count": 3,
   "metadata": {},
   "outputs": [
    {
     "data": {
      "text/html": [
       "<div>\n",
       "<style scoped>\n",
       "    .dataframe tbody tr th:only-of-type {\n",
       "        vertical-align: middle;\n",
       "    }\n",
       "\n",
       "    .dataframe tbody tr th {\n",
       "        vertical-align: top;\n",
       "    }\n",
       "\n",
       "    .dataframe thead th {\n",
       "        text-align: right;\n",
       "    }\n",
       "</style>\n",
       "<table border=\"1\" class=\"dataframe\">\n",
       "  <thead>\n",
       "    <tr style=\"text-align: right;\">\n",
       "      <th></th>\n",
       "      <th>_unit_id</th>\n",
       "      <th>_golden</th>\n",
       "      <th>_unit_state</th>\n",
       "      <th>_trusted_judgments</th>\n",
       "      <th>_last_judgment_at</th>\n",
       "      <th>gender</th>\n",
       "      <th>gender:confidence</th>\n",
       "      <th>profile_yn</th>\n",
       "      <th>profile_yn:confidence</th>\n",
       "      <th>created</th>\n",
       "      <th>...</th>\n",
       "      <th>profileimage</th>\n",
       "      <th>retweet_count</th>\n",
       "      <th>sidebar_color</th>\n",
       "      <th>text</th>\n",
       "      <th>tweet_coord</th>\n",
       "      <th>tweet_count</th>\n",
       "      <th>tweet_created</th>\n",
       "      <th>tweet_id</th>\n",
       "      <th>tweet_location</th>\n",
       "      <th>user_timezone</th>\n",
       "    </tr>\n",
       "  </thead>\n",
       "  <tbody>\n",
       "    <tr>\n",
       "      <th>0</th>\n",
       "      <td>815719226</td>\n",
       "      <td>False</td>\n",
       "      <td>finalized</td>\n",
       "      <td>3</td>\n",
       "      <td>10/26/15 23:24</td>\n",
       "      <td>male</td>\n",
       "      <td>1.0000</td>\n",
       "      <td>yes</td>\n",
       "      <td>1.0</td>\n",
       "      <td>12/5/13 1:48</td>\n",
       "      <td>...</td>\n",
       "      <td>https://pbs.twimg.com/profile_images/414342229...</td>\n",
       "      <td>0</td>\n",
       "      <td>FFFFFF</td>\n",
       "      <td>Robbie E Responds To Critics After Win Against...</td>\n",
       "      <td>NaN</td>\n",
       "      <td>110964</td>\n",
       "      <td>10/26/15 12:40</td>\n",
       "      <td>6.587300e+17</td>\n",
       "      <td>main; @Kan1shk3</td>\n",
       "      <td>Chennai</td>\n",
       "    </tr>\n",
       "    <tr>\n",
       "      <th>1</th>\n",
       "      <td>815719227</td>\n",
       "      <td>False</td>\n",
       "      <td>finalized</td>\n",
       "      <td>3</td>\n",
       "      <td>10/26/15 23:30</td>\n",
       "      <td>male</td>\n",
       "      <td>1.0000</td>\n",
       "      <td>yes</td>\n",
       "      <td>1.0</td>\n",
       "      <td>10/1/12 13:51</td>\n",
       "      <td>...</td>\n",
       "      <td>https://pbs.twimg.com/profile_images/539604221...</td>\n",
       "      <td>0</td>\n",
       "      <td>C0DEED</td>\n",
       "      <td>ÛÏIt felt like they were my friends and I was...</td>\n",
       "      <td>NaN</td>\n",
       "      <td>7471</td>\n",
       "      <td>10/26/15 12:40</td>\n",
       "      <td>6.587300e+17</td>\n",
       "      <td>NaN</td>\n",
       "      <td>Eastern Time (US &amp; Canada)</td>\n",
       "    </tr>\n",
       "    <tr>\n",
       "      <th>2</th>\n",
       "      <td>815719228</td>\n",
       "      <td>False</td>\n",
       "      <td>finalized</td>\n",
       "      <td>3</td>\n",
       "      <td>10/26/15 23:33</td>\n",
       "      <td>male</td>\n",
       "      <td>0.6625</td>\n",
       "      <td>yes</td>\n",
       "      <td>1.0</td>\n",
       "      <td>11/28/14 11:30</td>\n",
       "      <td>...</td>\n",
       "      <td>https://pbs.twimg.com/profile_images/657330418...</td>\n",
       "      <td>1</td>\n",
       "      <td>C0DEED</td>\n",
       "      <td>i absolutely adore when louis starts the songs...</td>\n",
       "      <td>NaN</td>\n",
       "      <td>5617</td>\n",
       "      <td>10/26/15 12:40</td>\n",
       "      <td>6.587300e+17</td>\n",
       "      <td>clcncl</td>\n",
       "      <td>Belgrade</td>\n",
       "    </tr>\n",
       "    <tr>\n",
       "      <th>3</th>\n",
       "      <td>815719229</td>\n",
       "      <td>False</td>\n",
       "      <td>finalized</td>\n",
       "      <td>3</td>\n",
       "      <td>10/26/15 23:10</td>\n",
       "      <td>male</td>\n",
       "      <td>1.0000</td>\n",
       "      <td>yes</td>\n",
       "      <td>1.0</td>\n",
       "      <td>6/11/09 22:39</td>\n",
       "      <td>...</td>\n",
       "      <td>https://pbs.twimg.com/profile_images/259703936...</td>\n",
       "      <td>0</td>\n",
       "      <td>C0DEED</td>\n",
       "      <td>Hi @JordanSpieth - Looking at the url - do you...</td>\n",
       "      <td>NaN</td>\n",
       "      <td>1693</td>\n",
       "      <td>10/26/15 12:40</td>\n",
       "      <td>6.587300e+17</td>\n",
       "      <td>Palo Alto, CA</td>\n",
       "      <td>Pacific Time (US &amp; Canada)</td>\n",
       "    </tr>\n",
       "    <tr>\n",
       "      <th>4</th>\n",
       "      <td>815719230</td>\n",
       "      <td>False</td>\n",
       "      <td>finalized</td>\n",
       "      <td>3</td>\n",
       "      <td>10/27/15 1:15</td>\n",
       "      <td>female</td>\n",
       "      <td>1.0000</td>\n",
       "      <td>yes</td>\n",
       "      <td>1.0</td>\n",
       "      <td>4/16/14 13:23</td>\n",
       "      <td>...</td>\n",
       "      <td>https://pbs.twimg.com/profile_images/564094871...</td>\n",
       "      <td>0</td>\n",
       "      <td>0</td>\n",
       "      <td>Watching Neighbours on Sky+ catching up with t...</td>\n",
       "      <td>NaN</td>\n",
       "      <td>31462</td>\n",
       "      <td>10/26/15 12:40</td>\n",
       "      <td>6.587300e+17</td>\n",
       "      <td>NaN</td>\n",
       "      <td>NaN</td>\n",
       "    </tr>\n",
       "  </tbody>\n",
       "</table>\n",
       "<p>5 rows × 26 columns</p>\n",
       "</div>"
      ],
      "text/plain": [
       "    _unit_id  _golden _unit_state  _trusted_judgments _last_judgment_at  \\\n",
       "0  815719226    False   finalized                   3    10/26/15 23:24   \n",
       "1  815719227    False   finalized                   3    10/26/15 23:30   \n",
       "2  815719228    False   finalized                   3    10/26/15 23:33   \n",
       "3  815719229    False   finalized                   3    10/26/15 23:10   \n",
       "4  815719230    False   finalized                   3     10/27/15 1:15   \n",
       "\n",
       "   gender  gender:confidence profile_yn  profile_yn:confidence  \\\n",
       "0    male             1.0000        yes                    1.0   \n",
       "1    male             1.0000        yes                    1.0   \n",
       "2    male             0.6625        yes                    1.0   \n",
       "3    male             1.0000        yes                    1.0   \n",
       "4  female             1.0000        yes                    1.0   \n",
       "\n",
       "          created  ...                                       profileimage  \\\n",
       "0    12/5/13 1:48  ...  https://pbs.twimg.com/profile_images/414342229...   \n",
       "1   10/1/12 13:51  ...  https://pbs.twimg.com/profile_images/539604221...   \n",
       "2  11/28/14 11:30  ...  https://pbs.twimg.com/profile_images/657330418...   \n",
       "3   6/11/09 22:39  ...  https://pbs.twimg.com/profile_images/259703936...   \n",
       "4   4/16/14 13:23  ...  https://pbs.twimg.com/profile_images/564094871...   \n",
       "\n",
       "   retweet_count sidebar_color  \\\n",
       "0              0        FFFFFF   \n",
       "1              0        C0DEED   \n",
       "2              1        C0DEED   \n",
       "3              0        C0DEED   \n",
       "4              0             0   \n",
       "\n",
       "                                                text tweet_coord tweet_count  \\\n",
       "0  Robbie E Responds To Critics After Win Against...         NaN      110964   \n",
       "1  ÛÏIt felt like they were my friends and I was...         NaN        7471   \n",
       "2  i absolutely adore when louis starts the songs...         NaN        5617   \n",
       "3  Hi @JordanSpieth - Looking at the url - do you...         NaN        1693   \n",
       "4  Watching Neighbours on Sky+ catching up with t...         NaN       31462   \n",
       "\n",
       "    tweet_created      tweet_id   tweet_location               user_timezone  \n",
       "0  10/26/15 12:40  6.587300e+17  main; @Kan1shk3                     Chennai  \n",
       "1  10/26/15 12:40  6.587300e+17              NaN  Eastern Time (US & Canada)  \n",
       "2  10/26/15 12:40  6.587300e+17           clcncl                    Belgrade  \n",
       "3  10/26/15 12:40  6.587300e+17    Palo Alto, CA  Pacific Time (US & Canada)  \n",
       "4  10/26/15 12:40  6.587300e+17              NaN                         NaN  \n",
       "\n",
       "[5 rows x 26 columns]"
      ]
     },
     "execution_count": 3,
     "metadata": {},
     "output_type": "execute_result"
    }
   ],
   "source": [
    "df.head()"
   ]
  },
  {
   "cell_type": "code",
   "execution_count": 4,
   "metadata": {},
   "outputs": [
    {
     "name": "stdout",
     "output_type": "stream",
     "text": [
      "<class 'pandas.core.frame.DataFrame'>\n",
      "RangeIndex: 20050 entries, 0 to 20049\n",
      "Data columns (total 26 columns):\n",
      " #   Column                 Non-Null Count  Dtype  \n",
      "---  ------                 --------------  -----  \n",
      " 0   _unit_id               20050 non-null  int64  \n",
      " 1   _golden                20050 non-null  bool   \n",
      " 2   _unit_state            20050 non-null  object \n",
      " 3   _trusted_judgments     20050 non-null  int64  \n",
      " 4   _last_judgment_at      20000 non-null  object \n",
      " 5   gender                 19953 non-null  object \n",
      " 6   gender:confidence      20024 non-null  float64\n",
      " 7   profile_yn             20050 non-null  object \n",
      " 8   profile_yn:confidence  20050 non-null  float64\n",
      " 9   created                20050 non-null  object \n",
      " 10  description            16306 non-null  object \n",
      " 11  fav_number             20050 non-null  int64  \n",
      " 12  gender_gold            50 non-null     object \n",
      " 13  link_color             20050 non-null  object \n",
      " 14  name                   20050 non-null  object \n",
      " 15  profile_yn_gold        50 non-null     object \n",
      " 16  profileimage           20050 non-null  object \n",
      " 17  retweet_count          20050 non-null  int64  \n",
      " 18  sidebar_color          20050 non-null  object \n",
      " 19  text                   20050 non-null  object \n",
      " 20  tweet_coord            159 non-null    object \n",
      " 21  tweet_count            20050 non-null  int64  \n",
      " 22  tweet_created          20050 non-null  object \n",
      " 23  tweet_id               20050 non-null  float64\n",
      " 24  tweet_location         12566 non-null  object \n",
      " 25  user_timezone          12252 non-null  object \n",
      "dtypes: bool(1), float64(3), int64(5), object(17)\n",
      "memory usage: 3.8+ MB\n"
     ]
    }
   ],
   "source": [
    "df.info()"
   ]
  },
  {
   "cell_type": "code",
   "execution_count": 5,
   "metadata": {},
   "outputs": [
    {
     "name": "stdout",
     "output_type": "stream",
     "text": [
      "The sum of null values in each column is: \n",
      " _unit_id                     0\n",
      "_golden                      0\n",
      "_unit_state                  0\n",
      "_trusted_judgments           0\n",
      "_last_judgment_at           50\n",
      "gender                      97\n",
      "gender:confidence           26\n",
      "profile_yn                   0\n",
      "profile_yn:confidence        0\n",
      "created                      0\n",
      "description               3744\n",
      "fav_number                   0\n",
      "gender_gold              20000\n",
      "link_color                   0\n",
      "name                         0\n",
      "profile_yn_gold          20000\n",
      "profileimage                 0\n",
      "retweet_count                0\n",
      "sidebar_color                0\n",
      "text                         0\n",
      "tweet_coord              19891\n",
      "tweet_count                  0\n",
      "tweet_created                0\n",
      "tweet_id                     0\n",
      "tweet_location            7484\n",
      "user_timezone             7798\n",
      "dtype: int64\n",
      "\n",
      "\n",
      "*******************************************\n",
      "\n",
      "\n",
      "the percentage of null values in each column is: \n",
      " _unit_id                  0.000000\n",
      "_golden                   0.000000\n",
      "_unit_state               0.000000\n",
      "_trusted_judgments        0.000000\n",
      "_last_judgment_at         0.249377\n",
      "gender                    0.483791\n",
      "gender:confidence         0.129676\n",
      "profile_yn                0.000000\n",
      "profile_yn:confidence     0.000000\n",
      "created                   0.000000\n",
      "description              18.673317\n",
      "fav_number                0.000000\n",
      "gender_gold              99.750623\n",
      "link_color                0.000000\n",
      "name                      0.000000\n",
      "profile_yn_gold          99.750623\n",
      "profileimage              0.000000\n",
      "retweet_count             0.000000\n",
      "sidebar_color             0.000000\n",
      "text                      0.000000\n",
      "tweet_coord              99.206983\n",
      "tweet_count               0.000000\n",
      "tweet_created             0.000000\n",
      "tweet_id                  0.000000\n",
      "tweet_location           37.326683\n",
      "user_timezone            38.892768\n",
      "dtype: float64\n"
     ]
    }
   ],
   "source": [
    "## check sum of null values in each column\n",
    "print(\"The sum of null values in each column is: \\n\",df.isnull().sum())\n",
    "print(\"\\n\")\n",
    "print(\"*******************************************\")\n",
    "print(\"\\n\")\n",
    "##check percentage of null values in each column\n",
    "print(\"the percentage of null values in each column is: \\n\",df.isnull().mean()*100)"
   ]
  },
  {
   "cell_type": "code",
   "execution_count": 6,
   "metadata": {},
   "outputs": [
    {
     "data": {
      "text/plain": [
       "Index(['_unit_id', '_golden', '_unit_state', '_trusted_judgments',\n",
       "       '_last_judgment_at', 'gender', 'gender:confidence', 'profile_yn',\n",
       "       'profile_yn:confidence', 'created', 'description', 'fav_number',\n",
       "       'gender_gold', 'link_color', 'name', 'profile_yn_gold', 'profileimage',\n",
       "       'retweet_count', 'sidebar_color', 'text', 'tweet_coord', 'tweet_count',\n",
       "       'tweet_created', 'tweet_id', 'tweet_location', 'user_timezone'],\n",
       "      dtype='object')"
      ]
     },
     "execution_count": 6,
     "metadata": {},
     "output_type": "execute_result"
    }
   ],
   "source": [
    "df.columns ## Lists out the column names "
   ]
  },
  {
   "cell_type": "code",
   "execution_count": 7,
   "metadata": {},
   "outputs": [],
   "source": [
    "## Removing columns which have high percentage of null values and will not be useful in predicting gender of the user\n",
    "df.drop(columns=['_unit_id','_last_judgment_at','created','gender_gold','profile_yn_gold','tweet_coord','tweet_location',\n",
    "                'user_timezone','tweet_id'],axis=1,inplace=True)"
   ]
  },
  {
   "cell_type": "markdown",
   "metadata": {},
   "source": [
    "Now to further clean the data we must understand the columns and what they mean. \n",
    "\n",
    "_golden: they represent whether or not the user was a gold standard memeber or not\n",
    "\n",
    "_unit_state: state of observation finalized: for contributor_judged golden: for golden members\n",
    "\n",
    "_trusted_judgement: \n",
    "\n",
    "gender: gender of the user\n",
    "\n",
    "gender:confidence : what is the confidence that the user if of the specified gender\\\n",
    "\n",
    "profile_yn : 'yes' indicates that they were available for data collection 'no' indicates that they were not\n",
    "\n",
    "profile_yn:confidence : confidence in existence or non-existence of the profile\n",
    "\n",
    "description: description of the user\n",
    "\n",
    "fav_number :number of tweets the user has favrouited\n",
    "\n",
    "link color: the link color on the profile as a hex value\n",
    "\n",
    "name: the user's entered name'\n",
    "\n",
    "profileimage: link to the users profile image\n",
    "\n",
    "retweet_count: number of times the user has retweeted (or possibly, been retweeted)\n",
    "\n",
    "sidebar_color: color of the profile sidebar, as a hex value\n",
    "\n",
    "text: text of a random one of the user's tweets\n",
    "\n",
    "tweet_count: number of tweets by the user\n",
    "\n",
    "tweet_created: when the tweet in the text column was created\n"
   ]
  },
  {
   "cell_type": "code",
   "execution_count": 8,
   "metadata": {},
   "outputs": [
    {
     "data": {
      "text/plain": [
       "female     6700\n",
       "male       6194\n",
       "brand      5942\n",
       "unknown    1117\n",
       "Name: gender, dtype: int64"
      ]
     },
     "execution_count": 8,
     "metadata": {},
     "output_type": "execute_result"
    }
   ],
   "source": [
    "df['gender'].value_counts()## gives the different types of gender and the number of times they have occured"
   ]
  },
  {
   "cell_type": "markdown",
   "metadata": {},
   "source": [
    "Since there are 1117 of 'unknown' gender type. we can drop these as they will not help in prediction"
   ]
  },
  {
   "cell_type": "code",
   "execution_count": 9,
   "metadata": {},
   "outputs": [],
   "source": [
    "df=df[df['gender']!='unknown']"
   ]
  },
  {
   "cell_type": "code",
   "execution_count": 10,
   "metadata": {},
   "outputs": [
    {
     "data": {
      "text/plain": [
       "female    6700\n",
       "male      6194\n",
       "brand     5942\n",
       "Name: gender, dtype: int64"
      ]
     },
     "execution_count": 10,
     "metadata": {},
     "output_type": "execute_result"
    }
   ],
   "source": [
    "df['gender'].value_counts()## checking the value counts of the gender column after dropping those rows with 'unknown' gender"
   ]
  },
  {
   "cell_type": "markdown",
   "metadata": {},
   "source": [
    "Checking the number of null values in the gender column"
   ]
  },
  {
   "cell_type": "code",
   "execution_count": 11,
   "metadata": {},
   "outputs": [
    {
     "data": {
      "text/plain": [
       "97"
      ]
     },
     "execution_count": 11,
     "metadata": {},
     "output_type": "execute_result"
    }
   ],
   "source": [
    "df['gender'].isnull().sum()"
   ]
  },
  {
   "cell_type": "markdown",
   "metadata": {},
   "source": [
    "Now checking the profile_yn column for cleaning"
   ]
  },
  {
   "cell_type": "code",
   "execution_count": 12,
   "metadata": {},
   "outputs": [
    {
     "data": {
      "text/plain": [
       "yes    18836\n",
       "no        97\n",
       "Name: profile_yn, dtype: int64"
      ]
     },
     "execution_count": 12,
     "metadata": {},
     "output_type": "execute_result"
    }
   ],
   "source": [
    "df['profile_yn'].value_counts()## gives the count of different values and the number of times they have occured"
   ]
  },
  {
   "cell_type": "code",
   "execution_count": 13,
   "metadata": {},
   "outputs": [],
   "source": [
    "gender_drop=df['gender'].isnull().index\n",
    "## Store the indices of those values which have NaN values in gender column"
   ]
  },
  {
   "cell_type": "code",
   "execution_count": 14,
   "metadata": {},
   "outputs": [],
   "source": [
    "profile_yn_drop=df[df['profile_yn']=='no'].index\n",
    "## store the indices of those rows which have 'no' in profile_yn column"
   ]
  },
  {
   "cell_type": "code",
   "execution_count": 15,
   "metadata": {},
   "outputs": [
    {
     "data": {
      "text/plain": [
       "True"
      ]
     },
     "execution_count": 15,
     "metadata": {},
     "output_type": "execute_result"
    }
   ],
   "source": [
    "## Comapre the two lists and see if the indices are common\n",
    "bool(set(gender_drop).intersection(profile_yn_drop))"
   ]
  },
  {
   "cell_type": "markdown",
   "metadata": {},
   "source": [
    "From this we can see that the rows having 'profile_yn' value as no also have 'gender' as NaN"
   ]
  },
  {
   "cell_type": "code",
   "execution_count": 16,
   "metadata": {},
   "outputs": [],
   "source": [
    "df=df[df['profile_yn']=='yes']\n",
    "## Removing those rows which have 'no' value in 'profile_yn' column"
   ]
  },
  {
   "cell_type": "code",
   "execution_count": 17,
   "metadata": {},
   "outputs": [
    {
     "data": {
      "text/plain": [
       "_golden                     0\n",
       "_unit_state                 0\n",
       "_trusted_judgments          0\n",
       "gender                      0\n",
       "gender:confidence           0\n",
       "profile_yn                  0\n",
       "profile_yn:confidence       0\n",
       "description              3314\n",
       "fav_number                  0\n",
       "link_color                  0\n",
       "name                        0\n",
       "profileimage                0\n",
       "retweet_count               0\n",
       "sidebar_color               0\n",
       "text                        0\n",
       "tweet_count                 0\n",
       "tweet_created               0\n",
       "dtype: int64"
      ]
     },
     "execution_count": 17,
     "metadata": {},
     "output_type": "execute_result"
    }
   ],
   "source": [
    "df.isnull().sum()"
   ]
  },
  {
   "cell_type": "markdown",
   "metadata": {},
   "source": [
    "In the 'gender:confidence' column we see that there are many values which are less than 1. therefore these values can be removed  However before removing we must see what percentage of values are these"
   ]
  },
  {
   "cell_type": "code",
   "execution_count": 18,
   "metadata": {},
   "outputs": [
    {
     "data": {
      "text/plain": [
       "(5032, 17)"
      ]
     },
     "execution_count": 18,
     "metadata": {},
     "output_type": "execute_result"
    }
   ],
   "source": [
    "df[df['gender:confidence']<1].shape"
   ]
  },
  {
   "cell_type": "markdown",
   "metadata": {},
   "source": [
    "From the above line we can see that the number of entries having gender:confidence <1 is 5032 which is approximately 26.7% . Thus these values can be safely removed from the dataframe"
   ]
  },
  {
   "cell_type": "code",
   "execution_count": 19,
   "metadata": {},
   "outputs": [],
   "source": [
    "df=df[df['gender:confidence']==1]\n",
    "## Keeping only those rows which have gender:confidence=1"
   ]
  },
  {
   "cell_type": "code",
   "execution_count": 20,
   "metadata": {},
   "outputs": [
    {
     "data": {
      "text/plain": [
       "(13804, 17)"
      ]
     },
     "execution_count": 20,
     "metadata": {},
     "output_type": "execute_result"
    }
   ],
   "source": [
    "df.shape\n",
    "## printing the shape of the dataframe"
   ]
  },
  {
   "cell_type": "code",
   "execution_count": 21,
   "metadata": {},
   "outputs": [
    {
     "data": {
      "text/html": [
       "<div>\n",
       "<style scoped>\n",
       "    .dataframe tbody tr th:only-of-type {\n",
       "        vertical-align: middle;\n",
       "    }\n",
       "\n",
       "    .dataframe tbody tr th {\n",
       "        vertical-align: top;\n",
       "    }\n",
       "\n",
       "    .dataframe thead th {\n",
       "        text-align: right;\n",
       "    }\n",
       "</style>\n",
       "<table border=\"1\" class=\"dataframe\">\n",
       "  <thead>\n",
       "    <tr style=\"text-align: right;\">\n",
       "      <th></th>\n",
       "      <th>_golden</th>\n",
       "      <th>_unit_state</th>\n",
       "      <th>_trusted_judgments</th>\n",
       "      <th>gender</th>\n",
       "      <th>gender:confidence</th>\n",
       "      <th>profile_yn</th>\n",
       "      <th>profile_yn:confidence</th>\n",
       "      <th>description</th>\n",
       "      <th>fav_number</th>\n",
       "      <th>link_color</th>\n",
       "      <th>name</th>\n",
       "      <th>profileimage</th>\n",
       "      <th>retweet_count</th>\n",
       "      <th>sidebar_color</th>\n",
       "      <th>text</th>\n",
       "      <th>tweet_count</th>\n",
       "      <th>tweet_created</th>\n",
       "    </tr>\n",
       "  </thead>\n",
       "  <tbody>\n",
       "    <tr>\n",
       "      <th>0</th>\n",
       "      <td>False</td>\n",
       "      <td>finalized</td>\n",
       "      <td>3</td>\n",
       "      <td>male</td>\n",
       "      <td>1.0</td>\n",
       "      <td>yes</td>\n",
       "      <td>1.0</td>\n",
       "      <td>i sing my own rhythm.</td>\n",
       "      <td>0</td>\n",
       "      <td>08C2C2</td>\n",
       "      <td>sheezy0</td>\n",
       "      <td>https://pbs.twimg.com/profile_images/414342229...</td>\n",
       "      <td>0</td>\n",
       "      <td>FFFFFF</td>\n",
       "      <td>Robbie E Responds To Critics After Win Against...</td>\n",
       "      <td>110964</td>\n",
       "      <td>10/26/15 12:40</td>\n",
       "    </tr>\n",
       "    <tr>\n",
       "      <th>1</th>\n",
       "      <td>False</td>\n",
       "      <td>finalized</td>\n",
       "      <td>3</td>\n",
       "      <td>male</td>\n",
       "      <td>1.0</td>\n",
       "      <td>yes</td>\n",
       "      <td>1.0</td>\n",
       "      <td>I'm the author of novels filled with family dr...</td>\n",
       "      <td>68</td>\n",
       "      <td>0084B4</td>\n",
       "      <td>DavdBurnett</td>\n",
       "      <td>https://pbs.twimg.com/profile_images/539604221...</td>\n",
       "      <td>0</td>\n",
       "      <td>C0DEED</td>\n",
       "      <td>ÛÏIt felt like they were my friends and I was...</td>\n",
       "      <td>7471</td>\n",
       "      <td>10/26/15 12:40</td>\n",
       "    </tr>\n",
       "    <tr>\n",
       "      <th>3</th>\n",
       "      <td>False</td>\n",
       "      <td>finalized</td>\n",
       "      <td>3</td>\n",
       "      <td>male</td>\n",
       "      <td>1.0</td>\n",
       "      <td>yes</td>\n",
       "      <td>1.0</td>\n",
       "      <td>Mobile guy.  49ers, Shazam, Google, Kleiner Pe...</td>\n",
       "      <td>202</td>\n",
       "      <td>0084B4</td>\n",
       "      <td>douggarland</td>\n",
       "      <td>https://pbs.twimg.com/profile_images/259703936...</td>\n",
       "      <td>0</td>\n",
       "      <td>C0DEED</td>\n",
       "      <td>Hi @JordanSpieth - Looking at the url - do you...</td>\n",
       "      <td>1693</td>\n",
       "      <td>10/26/15 12:40</td>\n",
       "    </tr>\n",
       "    <tr>\n",
       "      <th>4</th>\n",
       "      <td>False</td>\n",
       "      <td>finalized</td>\n",
       "      <td>3</td>\n",
       "      <td>female</td>\n",
       "      <td>1.0</td>\n",
       "      <td>yes</td>\n",
       "      <td>1.0</td>\n",
       "      <td>Ricky Wilson The Best FRONTMAN/Kaiser Chiefs T...</td>\n",
       "      <td>37318</td>\n",
       "      <td>3B94D9</td>\n",
       "      <td>WilfordGemma</td>\n",
       "      <td>https://pbs.twimg.com/profile_images/564094871...</td>\n",
       "      <td>0</td>\n",
       "      <td>0</td>\n",
       "      <td>Watching Neighbours on Sky+ catching up with t...</td>\n",
       "      <td>31462</td>\n",
       "      <td>10/26/15 12:40</td>\n",
       "    </tr>\n",
       "    <tr>\n",
       "      <th>5</th>\n",
       "      <td>False</td>\n",
       "      <td>finalized</td>\n",
       "      <td>3</td>\n",
       "      <td>female</td>\n",
       "      <td>1.0</td>\n",
       "      <td>yes</td>\n",
       "      <td>1.0</td>\n",
       "      <td>you don't know me.</td>\n",
       "      <td>3901</td>\n",
       "      <td>F5ABB5</td>\n",
       "      <td>monroevicious</td>\n",
       "      <td>https://pbs.twimg.com/profile_images/656336865...</td>\n",
       "      <td>0</td>\n",
       "      <td>0</td>\n",
       "      <td>Ive seen people on the train with lamps, chair...</td>\n",
       "      <td>20036</td>\n",
       "      <td>10/26/15 12:40</td>\n",
       "    </tr>\n",
       "  </tbody>\n",
       "</table>\n",
       "</div>"
      ],
      "text/plain": [
       "   _golden _unit_state  _trusted_judgments  gender  gender:confidence  \\\n",
       "0    False   finalized                   3    male                1.0   \n",
       "1    False   finalized                   3    male                1.0   \n",
       "3    False   finalized                   3    male                1.0   \n",
       "4    False   finalized                   3  female                1.0   \n",
       "5    False   finalized                   3  female                1.0   \n",
       "\n",
       "  profile_yn  profile_yn:confidence  \\\n",
       "0        yes                    1.0   \n",
       "1        yes                    1.0   \n",
       "3        yes                    1.0   \n",
       "4        yes                    1.0   \n",
       "5        yes                    1.0   \n",
       "\n",
       "                                         description  fav_number link_color  \\\n",
       "0                              i sing my own rhythm.           0     08C2C2   \n",
       "1  I'm the author of novels filled with family dr...          68     0084B4   \n",
       "3  Mobile guy.  49ers, Shazam, Google, Kleiner Pe...         202     0084B4   \n",
       "4  Ricky Wilson The Best FRONTMAN/Kaiser Chiefs T...       37318     3B94D9   \n",
       "5                                 you don't know me.        3901     F5ABB5   \n",
       "\n",
       "            name                                       profileimage  \\\n",
       "0        sheezy0  https://pbs.twimg.com/profile_images/414342229...   \n",
       "1    DavdBurnett  https://pbs.twimg.com/profile_images/539604221...   \n",
       "3    douggarland  https://pbs.twimg.com/profile_images/259703936...   \n",
       "4   WilfordGemma  https://pbs.twimg.com/profile_images/564094871...   \n",
       "5  monroevicious  https://pbs.twimg.com/profile_images/656336865...   \n",
       "\n",
       "   retweet_count sidebar_color  \\\n",
       "0              0        FFFFFF   \n",
       "1              0        C0DEED   \n",
       "3              0        C0DEED   \n",
       "4              0             0   \n",
       "5              0             0   \n",
       "\n",
       "                                                text  tweet_count  \\\n",
       "0  Robbie E Responds To Critics After Win Against...       110964   \n",
       "1  ÛÏIt felt like they were my friends and I was...         7471   \n",
       "3  Hi @JordanSpieth - Looking at the url - do you...         1693   \n",
       "4  Watching Neighbours on Sky+ catching up with t...        31462   \n",
       "5  Ive seen people on the train with lamps, chair...        20036   \n",
       "\n",
       "    tweet_created  \n",
       "0  10/26/15 12:40  \n",
       "1  10/26/15 12:40  \n",
       "3  10/26/15 12:40  \n",
       "4  10/26/15 12:40  \n",
       "5  10/26/15 12:40  "
      ]
     },
     "execution_count": 21,
     "metadata": {},
     "output_type": "execute_result"
    }
   ],
   "source": [
    "df.head()"
   ]
  },
  {
   "cell_type": "markdown",
   "metadata": {},
   "source": [
    "Removing other features which might not be useful in prediction"
   ]
  },
  {
   "cell_type": "code",
   "execution_count": 22,
   "metadata": {},
   "outputs": [],
   "source": [
    "df.drop (columns = ['_golden','_unit_state','_trusted_judgments','profile_yn','profile_yn:confidence',\n",
    "                      'tweet_created','profileimage','tweet_count',], inplace = True)"
   ]
  },
  {
   "cell_type": "code",
   "execution_count": 23,
   "metadata": {},
   "outputs": [
    {
     "name": "stdout",
     "output_type": "stream",
     "text": [
      "<class 'pandas.core.frame.DataFrame'>\n",
      "Int64Index: 13804 entries, 0 to 20049\n",
      "Data columns (total 9 columns):\n",
      " #   Column             Non-Null Count  Dtype  \n",
      "---  ------             --------------  -----  \n",
      " 0   gender             13804 non-null  object \n",
      " 1   gender:confidence  13804 non-null  float64\n",
      " 2   description        11773 non-null  object \n",
      " 3   fav_number         13804 non-null  int64  \n",
      " 4   link_color         13804 non-null  object \n",
      " 5   name               13804 non-null  object \n",
      " 6   retweet_count      13804 non-null  int64  \n",
      " 7   sidebar_color      13804 non-null  object \n",
      " 8   text               13804 non-null  object \n",
      "dtypes: float64(1), int64(2), object(6)\n",
      "memory usage: 1.1+ MB\n"
     ]
    }
   ],
   "source": [
    "df.info()"
   ]
  },
  {
   "cell_type": "markdown",
   "metadata": {},
   "source": [
    "Now since we have removed all those entries with 'gender:conficence' <1, all the values in that column are 1. therfore that column can also be removed"
   ]
  },
  {
   "cell_type": "code",
   "execution_count": 24,
   "metadata": {},
   "outputs": [],
   "source": [
    "df.drop(columns='gender:confidence',axis=1,inplace=True)"
   ]
  },
  {
   "cell_type": "code",
   "execution_count": 25,
   "metadata": {},
   "outputs": [
    {
     "name": "stdout",
     "output_type": "stream",
     "text": [
      "<class 'pandas.core.frame.DataFrame'>\n",
      "Int64Index: 13804 entries, 0 to 20049\n",
      "Data columns (total 8 columns):\n",
      " #   Column         Non-Null Count  Dtype \n",
      "---  ------         --------------  ----- \n",
      " 0   gender         13804 non-null  object\n",
      " 1   description    11773 non-null  object\n",
      " 2   fav_number     13804 non-null  int64 \n",
      " 3   link_color     13804 non-null  object\n",
      " 4   name           13804 non-null  object\n",
      " 5   retweet_count  13804 non-null  int64 \n",
      " 6   sidebar_color  13804 non-null  object\n",
      " 7   text           13804 non-null  object\n",
      "dtypes: int64(2), object(6)\n",
      "memory usage: 970.6+ KB\n"
     ]
    }
   ],
   "source": [
    "df.info()"
   ]
  },
  {
   "cell_type": "code",
   "execution_count": 26,
   "metadata": {},
   "outputs": [
    {
     "data": {
      "text/plain": [
       "(13804, 8)"
      ]
     },
     "execution_count": 26,
     "metadata": {},
     "output_type": "execute_result"
    }
   ],
   "source": [
    "df.shape"
   ]
  },
  {
   "cell_type": "markdown",
   "metadata": {},
   "source": [
    "Now let us visualize the data so that we can understand it better"
   ]
  },
  {
   "cell_type": "code",
   "execution_count": 27,
   "metadata": {},
   "outputs": [
    {
     "data": {
      "text/plain": [
       "<matplotlib.axes._subplots.AxesSubplot at 0x1909ab10508>"
      ]
     },
     "execution_count": 27,
     "metadata": {},
     "output_type": "execute_result"
    },
    {
     "data": {
      "image/png": "[encoded data removed]",
      "text/plain": [
       "<Figure size 432x288 with 1 Axes>"
      ]
     },
     "metadata": {
      "needs_background": "light"
     },
     "output_type": "display_data"
    }
   ],
   "source": [
    "sns.countplot(df['gender'],label=\"Gender\")\n",
    "\n",
    "##This will create a countplot of the gender column of the data"
   ]
  },
  {
   "cell_type": "markdown",
   "metadata": {},
   "source": [
    "From the above countplot we can see that the values in the gender column are almost equal in count"
   ]
  },
  {
   "cell_type": "code",
   "execution_count": 28,
   "metadata": {},
   "outputs": [
    {
     "data": {
      "text/plain": [
       "<matplotlib.axes._subplots.AxesSubplot at 0x1909aeec7c8>"
      ]
     },
     "execution_count": 28,
     "metadata": {},
     "output_type": "execute_result"
    },
    {
     "data": {
      "image/png": "[encoded data removed]",
      "text/plain": [
       "<Figure size 432x288 with 1 Axes>"
      ]
     },
     "metadata": {
      "needs_background": "light"
     },
     "output_type": "display_data"
    }
   ],
   "source": [
    "sns.barplot (x = 'gender', y = 'fav_number',data = df)\n",
    "\n",
    "## This code will create a barplot of gender column with the fav_number(number of tweets the user has favrouited)"
   ]
  },
  {
   "cell_type": "code",
   "execution_count": 29,
   "metadata": {},
   "outputs": [
    {
     "data": {
      "text/plain": [
       "<matplotlib.axes._subplots.AxesSubplot at 0x1909b70a348>"
      ]
     },
     "execution_count": 29,
     "metadata": {},
     "output_type": "execute_result"
    },
    {
     "data": {
      "image/png": "[encoded data removed]",
      "text/plain": [
       "<Figure size 432x288 with 1 Axes>"
      ]
     },
     "metadata": {
      "needs_background": "light"
     },
     "output_type": "display_data"
    }
   ],
   "source": [
    "sns.barplot (x = 'gender', y = 'retweet_count',data = df)\n",
    "\n",
    "## This code will create a barplot of the gender column with the retweet count"
   ]
  },
  {
   "cell_type": "markdown",
   "metadata": {},
   "source": [
    "Now we will visualize the color attribute(the sidebar color,link_color) of the different values in the gender column"
   ]
  },
  {
   "cell_type": "code",
   "execution_count": 30,
   "metadata": {},
   "outputs": [
    {
     "name": "stdout",
     "output_type": "stream",
     "text": [
      "C0DEED    2076\n",
      "FFFFFF     858\n",
      "0          849\n",
      "EEEEEE     229\n",
      "181A1E     142\n",
      "A8C7F7      88\n",
      "5ED4DC      48\n",
      "Name: sidebar_color, dtype: int64\n"
     ]
    }
   ],
   "source": [
    "male_top_sidebar_color = df[df['gender'] == 'male']['sidebar_color'].value_counts().head(7)\n",
    "\n",
    "## This snippet of code will take the top 7 values in the sidebar color\n",
    "print(male_top_sidebar_color)\n"
   ]
  },
  {
   "cell_type": "markdown",
   "metadata": {},
   "source": [
    "We can see that the third value is just 0. So we will write it as 000000"
   ]
  },
  {
   "cell_type": "code",
   "execution_count": 31,
   "metadata": {},
   "outputs": [
    {
     "name": "stdout",
     "output_type": "stream",
     "text": [
      "Index(['C0DEED', 'FFFFFF', '0', 'EEEEEE', '181A1E', 'A8C7F7', '5ED4DC'], dtype='object')\n",
      "['C0DEED' 'FFFFFF' '0' 'EEEEEE' '181A1E' 'A8C7F7' '5ED4DC']\n",
      "['C0DEED' 'FFFFFF' '000000' 'EEEEEE' '181A1E' 'A8C7F7' '5ED4DC']\n"
     ]
    },
    {
     "data": {
      "text/plain": [
       "<matplotlib.axes._subplots.AxesSubplot at 0x1909b787908>"
      ]
     },
     "execution_count": 31,
     "metadata": {},
     "output_type": "execute_result"
    },
    {
     "data": {
      "image/png": "[encoded data removed]",
      "text/plain": [
       "<Figure size 432x288 with 1 Axes>"
      ]
     },
     "metadata": {},
     "output_type": "display_data"
    }
   ],
   "source": [
    "male_top_sidebar_color_idx = male_top_sidebar_color.index\n",
    "print(male_top_sidebar_color_idx)\n",
    "\n",
    "## This code will take the index of the value_counts of the male_top_sidebar \n",
    "\n",
    "male_top_color = male_top_sidebar_color_idx.values\n",
    "print(male_top_color)\n",
    "\n",
    "##This will create a list of the values at each index once\n",
    "\n",
    "male_top_color[2] = '000000'\n",
    "## Changing the third value to hexadecimal\n",
    "\n",
    "print (male_top_color)\n",
    "\n",
    "l = lambda x: '#'+x\n",
    "\n",
    "sns.set_style(\"darkgrid\", {\"axes.facecolor\": \"#F5ABB5\"})\n",
    "\n",
    "##Setting the contrast of the grid so that all the bars can be seen\n",
    "\n",
    "sns.barplot (x = male_top_sidebar_color, y = male_top_color, palette=list(map(l, male_top_color)))\n",
    "##barplot of the top colors of the sidebar"
   ]
  },
  {
   "cell_type": "markdown",
   "metadata": {},
   "source": [
    "Similarly writing the same code for gender-female"
   ]
  },
  {
   "cell_type": "code",
   "execution_count": 32,
   "metadata": {},
   "outputs": [
    {
     "name": "stdout",
     "output_type": "stream",
     "text": [
      "['C0DEED' 'FFFFFF' '000000' 'EEEEEE' '65B0DA' '5ED4DC' 'CC3366']\n"
     ]
    },
    {
     "data": {
      "text/plain": [
       "<matplotlib.axes._subplots.AxesSubplot at 0x1909b80e688>"
      ]
     },
     "execution_count": 32,
     "metadata": {},
     "output_type": "execute_result"
    },
    {
     "data": {
      "image/png": "[encoded data removed]",
      "text/plain": [
       "<Figure size 432x288 with 1 Axes>"
      ]
     },
     "metadata": {},
     "output_type": "display_data"
    }
   ],
   "source": [
    "female_top_sidebar_color = df[df['gender'] == 'female']['sidebar_color'].value_counts().head(7)\n",
    "female_top_sidebar_color_idx = female_top_sidebar_color.index\n",
    "female_top_color = female_top_sidebar_color_idx.values\n",
    "\n",
    "female_top_color[2] = '000000'\n",
    "print (female_top_color)\n",
    "\n",
    "l = lambda x: '#'+x\n",
    "\n",
    "sns.set_style(\"darkgrid\", {\"axes.facecolor\": \"#F5ABB5\"})\n",
    "sns.barplot (x = female_top_sidebar_color, y = female_top_color, palette=list(map(l, female_top_color)))\n"
   ]
  },
  {
   "cell_type": "code",
   "execution_count": 33,
   "metadata": {},
   "outputs": [
    {
     "name": "stdout",
     "output_type": "stream",
     "text": [
      "['C0DEED' 'FFFFFF' '000000' 'EEEEEE' 'BDDCAD' '181A1E' 'A8C7F7']\n"
     ]
    },
    {
     "data": {
      "text/plain": [
       "<matplotlib.axes._subplots.AxesSubplot at 0x1909b8a3448>"
      ]
     },
     "execution_count": 33,
     "metadata": {},
     "output_type": "execute_result"
    },
    {
     "data": {
      "image/png": "[encoded data removed]",
      "text/plain": [
       "<Figure size 432x288 with 1 Axes>"
      ]
     },
     "metadata": {},
     "output_type": "display_data"
    }
   ],
   "source": [
    "brand_top_sidebar_color = df[df['gender'] == 'brand']['sidebar_color'].value_counts().head(7)\n",
    "brand_top_sidebar_color_idx = brand_top_sidebar_color.index\n",
    "brand_top_color = brand_top_sidebar_color_idx.values\n",
    "\n",
    "brand_top_color[2] = '000000'\n",
    "print (brand_top_color)\n",
    "\n",
    "l = lambda x: '#'+x\n",
    "\n",
    "sns.set_style(\"darkgrid\", {\"axes.facecolor\": \"#F5ABB5\"})\n",
    "sns.barplot (x = brand_top_sidebar_color, y = brand_top_color, palette=list(map(l, brand_top_color)))\n"
   ]
  },
  {
   "cell_type": "markdown",
   "metadata": {},
   "source": [
    "Here we can see that the top colors of the three values in gender are overlapping a lot i.e.. they are common. Therfore at this point the column sidebar_color may not be useful in predicting the gender"
   ]
  },
  {
   "cell_type": "markdown",
   "metadata": {},
   "source": [
    "Doing similar plotting for the link color for the genders in the gender column"
   ]
  },
  {
   "cell_type": "code",
   "execution_count": 34,
   "metadata": {},
   "outputs": [
    {
     "name": "stdout",
     "output_type": "stream",
     "text": [
      "0084B4    2346\n",
      "9999       240\n",
      "3B94D9     198\n",
      "2FC2EF     168\n",
      "DD2E44     123\n",
      "0          109\n",
      "ABB8C2     105\n",
      "Name: link_color, dtype: int64\n",
      "['0084B4' '009999' '3B94D9' '2FC2EF' 'DD2E44' '000000' 'ABB8C2']\n"
     ]
    },
    {
     "data": {
      "text/plain": [
       "<matplotlib.axes._subplots.AxesSubplot at 0x1909b92a048>"
      ]
     },
     "execution_count": 34,
     "metadata": {},
     "output_type": "execute_result"
    },
    {
     "data": {
      "image/png": "[encoded data removed]",
      "text/plain": [
       "<Figure size 432x288 with 1 Axes>"
      ]
     },
     "metadata": {},
     "output_type": "display_data"
    }
   ],
   "source": [
    "male_top_link_color = df[df['gender'] == 'male']['link_color'].value_counts().head(7)\n",
    "print(male_top_link_color)\n",
    "##Gives the value count of the top 7 link color\n",
    "\n",
    "male_top_link_color_idx = male_top_link_color.index\n",
    "\n",
    "## Will take the index of each type of color\n",
    "\n",
    "male_top_color = male_top_link_color_idx.values\n",
    "\n",
    "##Takes the value of the link color\n",
    "\n",
    "male_top_color[1] = '009999'\n",
    "male_top_color[5] = '000000'\n",
    "\n",
    "## Typing the full hexadecimal value of the link-color\n",
    "print(male_top_color)\n",
    "\n",
    "l = lambda x: '#'+x\n",
    "\n",
    "sns.set_style(\"whitegrid\", {\"axes.facecolor\": \"white\"})\n",
    "## setting the background of the plot so that all bars can be seen\n",
    "\n",
    "sns.barplot (x = male_top_link_color, y = male_top_link_color_idx, palette=list(map(l, male_top_color)))"
   ]
  },
  {
   "cell_type": "code",
   "execution_count": 35,
   "metadata": {},
   "outputs": [
    {
     "data": {
      "text/plain": [
       "<matplotlib.axes._subplots.AxesSubplot at 0x1909b9acf88>"
      ]
     },
     "execution_count": 35,
     "metadata": {},
     "output_type": "execute_result"
    },
    {
     "data": {
      "image/png": "[encoded data removed]",
      "text/plain": [
       "<Figure size 432x288 with 1 Axes>"
      ]
     },
     "metadata": {},
     "output_type": "display_data"
    }
   ],
   "source": [
    "female_top_link_color = df[df['gender'] == 'female']['link_color'].value_counts().head(7)\n",
    "female_top_link_color_idx = female_top_link_color.index\n",
    "female_top_color = female_top_link_color_idx.values\n",
    "\n",
    "l = lambda x: '#'+x\n",
    "\n",
    "sns.set_style(\"whitegrid\", {\"axes.facecolor\": \"white\"})\n",
    "sns.barplot (x = female_top_link_color, y = female_top_link_color_idx, palette=list(map(l, female_top_color)))"
   ]
  },
  {
   "cell_type": "markdown",
   "metadata": {},
   "source": [
    "Now doing some text cleaning so that it is easier to use in prediction and other places"
   ]
  },
  {
   "cell_type": "markdown",
   "metadata": {},
   "source": [
    "Removing Stop-words in texts and description"
   ]
  },
  {
   "cell_type": "code",
   "execution_count": 36,
   "metadata": {},
   "outputs": [
    {
     "data": {
      "text/plain": [
       "[('the', 8370),\n",
       " ('and', 7964),\n",
       " ('to', 4196),\n",
       " ('I', 3229),\n",
       " ('a', 3064),\n",
       " ('of', 2741),\n",
       " ('in', 2270),\n",
       " ('you', 2173),\n",
       " ('for', 2157),\n",
       " ('The', 2018),\n",
       " ('is', 1878),\n",
       " ('on', 1621),\n",
       " ('my', 1362),\n",
       " ('it', 1205),\n",
       " ('', 1184),\n",
       " ('with', 1156),\n",
       " ('Weather', 1074),\n",
       " ('that', 1032),\n",
       " ('from', 1022),\n",
       " ('me', 1001)]"
      ]
     },
     "execution_count": 36,
     "metadata": {},
     "output_type": "execute_result"
    }
   ],
   "source": [
    "from collections import Counter\n",
    "\n",
    "twit_vocab = Counter()\n",
    "for twit in df['text']:\n",
    "    for word in twit.split(' '):\n",
    "        twit_vocab[word] += 1\n",
    "\n",
    "twit_vocab.most_common(20)\n",
    "## This code will print the 20 most common words in the text"
   ]
  },
  {
   "cell_type": "markdown",
   "metadata": {},
   "source": [
    "Many of these words dont have anything to do with actual text analysis and can be removed by using the stopwords package from NLTK"
   ]
  },
  {
   "cell_type": "code",
   "execution_count": 37,
   "metadata": {},
   "outputs": [],
   "source": [
    "from nltk.corpus import stopwords\n",
    "stop=stopwords.words('English')\n",
    "## This code will import the stopwords package and will take the stopwords in the english language"
   ]
  },
  {
   "cell_type": "code",
   "execution_count": 38,
   "metadata": {},
   "outputs": [
    {
     "data": {
      "text/plain": [
       "[('I', 3229),\n",
       " ('The', 2018),\n",
       " ('', 1184),\n",
       " ('Weather', 1074),\n",
       " ('-', 767),\n",
       " (\"I'm\", 651),\n",
       " ('like', 628),\n",
       " ('Get', 627),\n",
       " ('get', 570),\n",
       " ('Updates', 538),\n",
       " ('Channel.', 537),\n",
       " ('And', 487),\n",
       " ('one', 416),\n",
       " ('&amp;', 348),\n",
       " ('new', 343),\n",
       " ('love', 340),\n",
       " ('people', 315),\n",
       " ('time', 301),\n",
       " ('go', 290),\n",
       " ('know', 288)]"
      ]
     },
     "execution_count": 38,
     "metadata": {},
     "output_type": "execute_result"
    }
   ],
   "source": [
    "twit_vocab_reduced = Counter()\n",
    "for w, c in twit_vocab.items():\n",
    "    if not w in stop:\n",
    "        twit_vocab_reduced[w]=c\n",
    "\n",
    "twit_vocab_reduced.most_common(20)\n",
    "\n",
    "## This code will remove all the stopwords from the text data and leave other words"
   ]
  },
  {
   "cell_type": "code",
   "execution_count": 39,
   "metadata": {},
   "outputs": [],
   "source": [
    "import re\n",
    "## the regular expression module will prove very helpful in text cleaning\n",
    "def cleaning(text):\n",
    "    # Remove HTML markup\n",
    "    text = re.sub('<[^>]*>', '', text)\n",
    "    # Save emoticons for later appending\n",
    "    emoticons = re.findall('(?::|;|=)(?:-)?(?:\\)|\\(|D|P)', text)\n",
    "    # Remove any non-word character and append the emoticons,\n",
    "    # removing the nose character for standarization. Convert to lower case\n",
    "    text = (re.sub('[\\W]+', ' ', text.lower()) + ' ' + ' '.join(emoticons).replace('-', ''))\n",
    "    \n",
    "    return text"
   ]
  },
  {
   "cell_type": "markdown",
   "metadata": {},
   "source": [
    "Now to apply Lemmatization to the text and descriptions"
   ]
  },
  {
   "cell_type": "code",
   "execution_count": 40,
   "metadata": {},
   "outputs": [],
   "source": [
    "from nltk.stem import PorterStemmer\n",
    "\n",
    "porter = PorterStemmer()\n",
    "\n",
    "def tokenizer(text):\n",
    "    return text.split()\n",
    "\n",
    "def tokenizer_porter(text):\n",
    "    return [porter.stem(word) for word in text.split()]"
   ]
  },
  {
   "cell_type": "markdown",
   "metadata": {},
   "source": [
    "The above two blocks of code will be used as functions which will be called during preprocessing"
   ]
  },
  {
   "cell_type": "markdown",
   "metadata": {},
   "source": [
    "Concatenating the description column with the text column"
   ]
  },
  {
   "cell_type": "code",
   "execution_count": 41,
   "metadata": {},
   "outputs": [
    {
     "data": {
      "text/plain": [
       "2031"
      ]
     },
     "execution_count": 41,
     "metadata": {},
     "output_type": "execute_result"
    }
   ],
   "source": [
    "df['description'].isnull().sum()\n",
    "## This will return the number of rows with empty description"
   ]
  },
  {
   "cell_type": "code",
   "execution_count": 42,
   "metadata": {},
   "outputs": [],
   "source": [
    "df['description'].fillna('',inplace=True)\n",
    "## This will fill the Null values in the description column with ''"
   ]
  },
  {
   "cell_type": "code",
   "execution_count": 43,
   "metadata": {},
   "outputs": [
    {
     "data": {
      "text/plain": [
       "0"
      ]
     },
     "execution_count": 43,
     "metadata": {},
     "output_type": "execute_result"
    }
   ],
   "source": [
    "df['description'].isnull().sum()"
   ]
  },
  {
   "cell_type": "markdown",
   "metadata": {},
   "source": [
    "Now since the number of null values in the description column is 0, we can concatenate the two columns"
   ]
  },
  {
   "cell_type": "code",
   "execution_count": 44,
   "metadata": {},
   "outputs": [],
   "source": [
    "df['text_description']=df['text'].str.cat(df['description'],sep=' ')\n",
    "\n",
    "##This will create a new column in the dataframe with both the text and the description"
   ]
  },
  {
   "cell_type": "code",
   "execution_count": 45,
   "metadata": {},
   "outputs": [
    {
     "data": {
      "text/plain": [
       "0"
      ]
     },
     "execution_count": 45,
     "metadata": {},
     "output_type": "execute_result"
    }
   ],
   "source": [
    "df['text_description'].isnull().sum()\n",
    "\n",
    "##This will count the number of null values in the text_description column"
   ]
  },
  {
   "cell_type": "markdown",
   "metadata": {},
   "source": [
    "Creating the dataset for training"
   ]
  },
  {
   "cell_type": "code",
   "execution_count": 46,
   "metadata": {},
   "outputs": [],
   "source": [
    "from sklearn.preprocessing import LabelEncoder\n",
    "\n",
    "encoder=LabelEncoder()\n",
    "\n",
    "y=encoder.fit_transform(df['gender'])\n",
    "\n",
    "x=df['text_description']"
   ]
  },
  {
   "cell_type": "markdown",
   "metadata": {},
   "source": [
    "In this case gender is the dependent variable and the text_description column is the independent variable. i.e.. we have to predict the gender of the user based on the text_description values"
   ]
  },
  {
   "cell_type": "markdown",
   "metadata": {},
   "source": [
    "Now to split the dataset for training and testing"
   ]
  },
  {
   "cell_type": "code",
   "execution_count": 47,
   "metadata": {},
   "outputs": [],
   "source": [
    "x_train,x_test,y_train,y_test=train_test_split(x,y,test_size=0.3)\n",
    "\n",
    "##This will create the testing and training dataset"
   ]
  },
  {
   "cell_type": "markdown",
   "metadata": {},
   "source": [
    "Now feeding this data to the models"
   ]
  },
  {
   "cell_type": "markdown",
   "metadata": {},
   "source": [
    "### Naive Bayes classifier"
   ]
  },
  {
   "cell_type": "code",
   "execution_count": 48,
   "metadata": {},
   "outputs": [],
   "source": [
    "from sklearn.naive_bayes import MultinomialNB\n",
    "# function to split the data for cross-validation\n",
    "\n",
    "from sklearn.feature_extraction.text import CountVectorizer\n",
    "# function for transforming documents into counts"
   ]
  },
  {
   "cell_type": "code",
   "execution_count": 49,
   "metadata": {},
   "outputs": [
    {
     "name": "stdout",
     "output_type": "stream",
     "text": [
      "0.6948334138097537\n"
     ]
    }
   ],
   "source": [
    "vectorizer = CountVectorizer()\n",
    "x_1 = vectorizer.fit_transform(df['text_description'])\n",
    "y_1=encoder.fit_transform(df['gender'])\n",
    "\n",
    "X_train,X_test,Y_train,Y_test=train_test_split(x_1,y_1,test_size=0.3)\n",
    "\n",
    "\n",
    "nb = MultinomialNB()\n",
    "nb.fit(X_train, Y_train)\n",
    "\n",
    "print(nb.score(X_test, Y_test))"
   ]
  },
  {
   "cell_type": "markdown",
   "metadata": {},
   "source": [
    "We can see that the naive bayes classifier has an accuracy of 68.63%"
   ]
  },
  {
   "cell_type": "markdown",
   "metadata": {},
   "source": [
    "### Logistic Regression"
   ]
  },
  {
   "cell_type": "code",
   "execution_count": 50,
   "metadata": {},
   "outputs": [
    {
     "name": "stdout",
     "output_type": "stream",
     "text": [
      "Accuracy: 0.6699661999034283\n",
      "Confusion matrix:\n",
      " [[ 918   96  108]\n",
      " [ 133 1186  316]\n",
      " [ 180  534  671]]\n"
     ]
    }
   ],
   "source": [
    "from sklearn.linear_model import LogisticRegression\n",
    "\n",
    "tfidf = TfidfVectorizer(lowercase=False,\n",
    "                        tokenizer=tokenizer_porter,\n",
    "                        preprocessor=cleaning)\n",
    "\n",
    "clf = Pipeline([('vect', tfidf),\n",
    "                ('clf', LogisticRegression(multi_class='ovr', random_state=0))])\n",
    "\n",
    "## The \n",
    "clf.fit(x_train, y_train)\n",
    "\n",
    "predictions = clf.predict(x_test)\n",
    "print('Accuracy:',accuracy_score(y_test,predictions))\n",
    "print('Confusion matrix:\\n',confusion_matrix(y_test,predictions))"
   ]
  },
  {
   "cell_type": "markdown",
   "metadata": {},
   "source": [
    "We can see that the logistic regression model gives 67.31% accuracy"
   ]
  },
  {
   "cell_type": "markdown",
   "metadata": {},
   "source": [
    "### Random Forest"
   ]
  },
  {
   "cell_type": "code",
   "execution_count": 51,
   "metadata": {},
   "outputs": [
    {
     "data": {
      "text/plain": [
       "<matplotlib.collections.PathCollection at 0x1909f9df688>"
      ]
     },
     "execution_count": 51,
     "metadata": {},
     "output_type": "execute_result"
    },
    {
     "data": {
      "image/png": "[encoded data removed]",
      "text/plain": [
       "<Figure size 432x288 with 1 Axes>"
      ]
     },
     "metadata": {},
     "output_type": "display_data"
    }
   ],
   "source": [
    "from sklearn.ensemble import RandomForestClassifier\n",
    "n = range (1,120,10) #step 10\n",
    "\n",
    "results = []\n",
    "for i in n:\n",
    "    clf = Pipeline([('vect', tfidf),\n",
    "                ('clf', RandomForestClassifier(n_estimators = i, random_state=0))])\n",
    "    clf.fit(x_train, y_train)\n",
    "    predictions = clf.predict(x_test)\n",
    "    results.append(accuracy_score(y_test, predictions))\n",
    "plt.grid()    \n",
    "plt.scatter(n, results)"
   ]
  },
  {
   "cell_type": "code",
   "execution_count": 52,
   "metadata": {},
   "outputs": [
    {
     "data": {
      "text/plain": [
       "<matplotlib.collections.PathCollection at 0x1909efa9348>"
      ]
     },
     "execution_count": 52,
     "metadata": {},
     "output_type": "execute_result"
    },
    {
     "data": {
      "image/png": "[encoded data removed]",
      "text/plain": [
       "<Figure size 432x288 with 1 Axes>"
      ]
     },
     "metadata": {},
     "output_type": "display_data"
    }
   ],
   "source": [
    "n = range (90,120,2) #step 2\n",
    "\n",
    "results = []\n",
    "for i in n:\n",
    "    clf = Pipeline([('vect', tfidf),\n",
    "                ('clf', RandomForestClassifier(n_estimators = i, random_state=0))])\n",
    "    clf.fit(x_train, y_train)\n",
    "    predictions = clf.predict(x_test)\n",
    "    results.append(accuracy_score(y_test, predictions))\n",
    "plt.grid()    \n",
    "plt.scatter(n, results)"
   ]
  },
  {
   "cell_type": "code",
   "execution_count": 53,
   "metadata": {},
   "outputs": [
    {
     "data": {
      "text/plain": [
       "<matplotlib.collections.PathCollection at 0x1909e60d1c8>"
      ]
     },
     "execution_count": 53,
     "metadata": {},
     "output_type": "execute_result"
    },
    {
     "data": {
      "image/png": "[encoded data removed]",
      "text/plain": [
       "<Figure size 432x288 with 1 Axes>"
      ]
     },
     "metadata": {},
     "output_type": "display_data"
    }
   ],
   "source": [
    "n = range (105,120,1) #step 1\n",
    "\n",
    "results = []\n",
    "for i in n:\n",
    "    clf = Pipeline([('vect', tfidf),\n",
    "                ('clf', RandomForestClassifier(n_estimators = i, random_state=0))])\n",
    "    clf.fit(x_train, y_train)\n",
    "    predictions = clf.predict(x_test)\n",
    "    results.append(accuracy_score(y_test, predictions))\n",
    "plt.grid()    \n",
    "plt.scatter(n, results)"
   ]
  },
  {
   "cell_type": "code",
   "execution_count": 54,
   "metadata": {},
   "outputs": [
    {
     "name": "stdout",
     "output_type": "stream",
     "text": [
      "Accuracy: 0.6455818445195558\n",
      "Confusion matrix:\n",
      " [[ 852  153  117]\n",
      " [  97 1343  195]\n",
      " [ 142  764  479]]\n"
     ]
    }
   ],
   "source": [
    "from sklearn.ensemble import RandomForestClassifier\n",
    "\n",
    "tfidf = TfidfVectorizer(lowercase=False,\n",
    "                        tokenizer=tokenizer_porter,\n",
    "                        preprocessor=cleaning)\n",
    "clf = Pipeline([('vect', tfidf),\n",
    "                ('clf', RandomForestClassifier(n_estimators = 115, random_state=0))])\n",
    "\n",
    "clf.fit(x_train, y_train)\n",
    "\n",
    "predictions = clf.predict(x_test)\n",
    "print('Accuracy:',accuracy_score(y_test,predictions))\n",
    "print('Confusion matrix:\\n',confusion_matrix(y_test,predictions))"
   ]
  },
  {
   "cell_type": "markdown",
   "metadata": {},
   "source": [
    "We can see that the RandomForestClassifier has 63.25% accuracy"
   ]
  },
  {
   "cell_type": "markdown",
   "metadata": {},
   "source": [
    "### SVM model"
   ]
  },
  {
   "cell_type": "code",
   "execution_count": 55,
   "metadata": {},
   "outputs": [
    {
     "name": "stdout",
     "output_type": "stream",
     "text": [
      "Accuracy: 0.6731047802993723\n",
      "Confusion matrix:\n",
      " [[ 912   90  120]\n",
      " [ 126 1175  334]\n",
      " [ 172  512  701]]\n"
     ]
    }
   ],
   "source": [
    "from sklearn.svm import SVC\n",
    "\n",
    "tfidf = TfidfVectorizer(lowercase=False,\n",
    "                        tokenizer=tokenizer_porter,\n",
    "                        preprocessor=cleaning)\n",
    "clf = Pipeline([('vect', tfidf),\n",
    "                ('clf', SVC(kernel = 'rbf'))])\n",
    "clf.fit(x_train, y_train)\n",
    "\n",
    "predictions = clf.predict(x_test)\n",
    "print('Accuracy:',accuracy_score(y_test,predictions))\n",
    "print('Confusion matrix:\\n',confusion_matrix(y_test,predictions))"
   ]
  },
  {
   "cell_type": "markdown",
   "metadata": {},
   "source": [
    "We can see that with the SVM model the accuracy is 67.189%"
   ]
  },
  {
   "cell_type": "markdown",
   "metadata": {},
   "source": [
    "### Ensemble Learning"
   ]
  },
  {
   "cell_type": "code",
   "execution_count": 56,
   "metadata": {},
   "outputs": [
    {
     "name": "stdout",
     "output_type": "stream",
     "text": [
      "Accuracy: 0.6825205214872042\n",
      "Confusion matrix:\n",
      " [[ 902  112  108]\n",
      " [ 103 1286  246]\n",
      " [ 141  605  639]]\n"
     ]
    }
   ],
   "source": [
    "from sklearn.ensemble import VotingClassifier\n",
    "clf1 = LogisticRegression(multi_class='ovr', random_state=0)\n",
    "clf2 = RandomForestClassifier(n_estimators = 115, random_state=0)\n",
    "clf3 = SVC(kernel = 'rbf',probability = True, random_state=0)\n",
    "clf4 = MultinomialNB()\n",
    "\n",
    "ensemble_clf = VotingClassifier(estimators=[\n",
    "        ('lr', clf1), ('svm', clf3),('naive_bayes', clf4)], voting='soft')\n",
    "\n",
    "clf = Pipeline([('vect', tfidf),\n",
    "                ('clf', ensemble_clf)])\n",
    "\n",
    "clf.fit(x_train, y_train)\n",
    "\n",
    "# ensemble_clf.fit(X_train, y_train)\n",
    "\n",
    "predictions = clf.predict(x_test)\n",
    "print('Accuracy:',accuracy_score(y_test,predictions))\n",
    "print('Confusion matrix:\\n',confusion_matrix(y_test,predictions))"
   ]
  },
  {
   "cell_type": "markdown",
   "metadata": {},
   "source": [
    "In the first case where we use the Logistic Regression model,SVM and naive_bayes classifier the accuracy comes out almost 68%"
   ]
  },
  {
   "cell_type": "code",
   "execution_count": 57,
   "metadata": {},
   "outputs": [
    {
     "name": "stdout",
     "output_type": "stream",
     "text": [
      "Accuracy: 0.6784162240463544\n",
      "Confusion matrix:\n",
      " [[ 922   89  111]\n",
      " [ 126 1226  283]\n",
      " [ 171  552  662]]\n"
     ]
    }
   ],
   "source": [
    "from sklearn.ensemble import VotingClassifier\n",
    "clf1 = LogisticRegression(multi_class='ovr', random_state=0)\n",
    "clf2 = RandomForestClassifier(n_estimators = 115, random_state=0)\n",
    "clf3 = SVC(kernel = 'rbf',probability = True, random_state=0)\n",
    "clf4 = MultinomialNB()\n",
    "\n",
    "ensemble_clf = VotingClassifier(estimators=[\n",
    "        ('lr', clf1), ('rf', clf2), ('svm', clf3)], voting='soft')\n",
    "\n",
    "clf = Pipeline([('vect', tfidf),\n",
    "                ('clf', ensemble_clf)])\n",
    "\n",
    "clf.fit(x_train, y_train)\n",
    "\n",
    "# ensemble_clf.fit(X_train, y_train)\n",
    "\n",
    "predictions = clf.predict(x_test)\n",
    "print('Accuracy:',accuracy_score(y_test,predictions))\n",
    "print('Confusion matrix:\\n',confusion_matrix(y_test,predictions))"
   ]
  },
  {
   "cell_type": "markdown",
   "metadata": {},
   "source": [
    "In the second case where we use the logistic regression,RandomForestClassifier and SVC the accuracy comes out to be 67.33%"
   ]
  },
  {
   "cell_type": "code",
   "execution_count": 58,
   "metadata": {},
   "outputs": [
    {
     "name": "stdout",
     "output_type": "stream",
     "text": [
      "Accuracy: 0.6788990825688074\n",
      "Confusion matrix:\n",
      " [[ 891  120  111]\n",
      " [  93 1325  217]\n",
      " [ 136  653  596]]\n"
     ]
    }
   ],
   "source": [
    "from sklearn.ensemble import VotingClassifier\n",
    "clf1 = LogisticRegression(multi_class='ovr', random_state=0)\n",
    "clf2 = RandomForestClassifier(n_estimators = 115, random_state=0)\n",
    "clf3 = SVC(kernel = 'rbf',probability = True, random_state=0)\n",
    "clf4 = MultinomialNB()\n",
    "\n",
    "ensemble_clf = VotingClassifier(estimators=[\n",
    "        ('rf', clf2), ('svm', clf3),('naive_bayes', clf4)], voting='soft')\n",
    "\n",
    "clf = Pipeline([('vect', tfidf),\n",
    "                ('clf', ensemble_clf)])\n",
    "\n",
    "clf.fit(x_train, y_train)\n",
    "\n",
    "# ensemble_clf.fit(X_train, y_train)\n",
    "\n",
    "predictions = clf.predict(x_test)\n",
    "print('Accuracy:',accuracy_score(y_test,predictions))\n",
    "print('Confusion matrix:\\n',confusion_matrix(y_test,predictions))"
   ]
  },
  {
   "cell_type": "markdown",
   "metadata": {},
   "source": [
    "In the third case using RandomForestClassifier,SVM and naive bayes classifier the accuracy comes out to be 67.33%"
   ]
  },
  {
   "cell_type": "code",
   "execution_count": 59,
   "metadata": {},
   "outputs": [
    {
     "name": "stdout",
     "output_type": "stream",
     "text": [
      "Accuracy: 0.6788990825688074\n",
      "Confusion matrix:\n",
      " [[ 867  144  111]\n",
      " [  82 1387  166]\n",
      " [ 122  705  558]]\n"
     ]
    }
   ],
   "source": [
    "from sklearn.ensemble import VotingClassifier\n",
    "clf1 = LogisticRegression(multi_class='ovr', random_state=0)\n",
    "clf2 = RandomForestClassifier(n_estimators = 115, random_state=0)\n",
    "clf3 = SVC(kernel = 'rbf',probability = True, random_state=0)\n",
    "clf4 = MultinomialNB()\n",
    "\n",
    "ensemble_clf = VotingClassifier(estimators=[\n",
    "        ('lr', clf1), ('rf', clf2),('naive_bayes', clf4)], voting='soft')\n",
    "\n",
    "clf = Pipeline([('vect', tfidf),\n",
    "                ('clf', ensemble_clf)])\n",
    "\n",
    "clf.fit(x_train, y_train)\n",
    "\n",
    "# ensemble_clf.fit(X_train, y_train)\n",
    "\n",
    "predictions = clf.predict(x_test)\n",
    "print('Accuracy:',accuracy_score(y_test,predictions))\n",
    "print('Confusion matrix:\\n',confusion_matrix(y_test,predictions))"
   ]
  },
  {
   "cell_type": "markdown",
   "metadata": {},
   "source": [
    "In the fourth case using logistic regression, Random forest and naive bayes the accuracy is 66.45%"
   ]
  },
  {
   "cell_type": "markdown",
   "metadata": {},
   "source": [
    "##  Which gender makes more typos in their tweets?"
   ]
  },
  {
   "cell_type": "markdown",
   "metadata": {},
   "source": [
    "Since there are three gender values in the gender column we will split the dataframe according to the genders and count individually which gender makes the highest number of typos in their tweets"
   ]
  },
  {
   "cell_type": "code",
   "execution_count": 60,
   "metadata": {},
   "outputs": [
    {
     "data": {
      "text/plain": [
       "female    5367\n",
       "male      4653\n",
       "brand     3784\n",
       "Name: gender, dtype: int64"
      ]
     },
     "execution_count": 60,
     "metadata": {},
     "output_type": "execute_result"
    }
   ],
   "source": [
    "df['gender'].value_counts()"
   ]
  },
  {
   "cell_type": "code",
   "execution_count": 61,
   "metadata": {},
   "outputs": [],
   "source": [
    "male_tweets=df[df['gender']=='male']\n",
    "\n",
    "##This code will create a different dataframe the gender column will only have the male value"
   ]
  },
  {
   "cell_type": "code",
   "execution_count": 62,
   "metadata": {},
   "outputs": [
    {
     "data": {
      "text/plain": [
       "Index(['gender', 'description', 'fav_number', 'link_color', 'name',\n",
       "       'retweet_count', 'sidebar_color', 'text', 'text_description'],\n",
       "      dtype='object')"
      ]
     },
     "execution_count": 62,
     "metadata": {},
     "output_type": "execute_result"
    }
   ],
   "source": [
    "male_tweets.columns\n",
    "\n",
    "##Checks the columns in the new dataframe"
   ]
  },
  {
   "cell_type": "code",
   "execution_count": 63,
   "metadata": {},
   "outputs": [
    {
     "data": {
      "text/plain": [
       "male    4653\n",
       "Name: gender, dtype: int64"
      ]
     },
     "execution_count": 63,
     "metadata": {},
     "output_type": "execute_result"
    }
   ],
   "source": [
    "male_tweets['gender'].value_counts()"
   ]
  },
  {
   "cell_type": "markdown",
   "metadata": {},
   "source": [
    "As we can see only the male values are present in the gender column"
   ]
  },
  {
   "cell_type": "markdown",
   "metadata": {},
   "source": [
    "Now let us check for the number of typos in their tweets"
   ]
  },
  {
   "cell_type": "code",
   "execution_count": 64,
   "metadata": {},
   "outputs": [],
   "source": [
    "from textblob import TextBlob\n",
    "## import a library for text correction\n",
    "count=0 ## initilize a variable for counting the number of typos"
   ]
  },
  {
   "cell_type": "code",
   "execution_count": null,
   "metadata": {},
   "outputs": [],
   "source": [
    "for twit in male_tweets['text']:\n",
    "    text=TextBlob(twit)\n",
    "    correct=text.correct()\n",
    "    if twit!=correct:\n",
    "        count+=1\n",
    "    else:\n",
    "        continue"
   ]
  },
  {
   "cell_type": "code",
   "execution_count": null,
   "metadata": {},
   "outputs": [],
   "source": [
    "print(count)"
   ]
  },
  {
   "cell_type": "markdown",
   "metadata": {},
   "source": [
    "From the above code we can see that in the total number of tweets made by male users, there are 3871 typos in them."
   ]
  },
  {
   "cell_type": "code",
   "execution_count": null,
   "metadata": {},
   "outputs": [],
   "source": [
    "length=[]\n",
    "for twit in male_tweets['text']:\n",
    "    text=twit.split()\n",
    "    length.append(len(text))\n",
    "print(sum(length))"
   ]
  },
  {
   "cell_type": "markdown",
   "metadata": {},
   "source": [
    "The above number represents the total number of words in the tweets made by the male users"
   ]
  },
  {
   "cell_type": "code",
   "execution_count": null,
   "metadata": {},
   "outputs": [],
   "source": [
    "print(\"The percentage of error due to typos is: \",(count*100/sum(length)))"
   ]
  },
  {
   "cell_type": "markdown",
   "metadata": {},
   "source": [
    "Now let us do the same for female users"
   ]
  },
  {
   "cell_type": "code",
   "execution_count": null,
   "metadata": {},
   "outputs": [],
   "source": [
    "female_tweets=df[df['gender']=='female']\n",
    "count_female=0\n",
    "##This code will create a different dataframe the gender column will only have the female value"
   ]
  },
  {
   "cell_type": "code",
   "execution_count": null,
   "metadata": {},
   "outputs": [],
   "source": [
    "female_tweets.columns\n",
    "\n",
    "##Checks the columns in the new dataframe"
   ]
  },
  {
   "cell_type": "code",
   "execution_count": null,
   "metadata": {},
   "outputs": [],
   "source": [
    "female_tweets['gender'].value_counts()"
   ]
  },
  {
   "cell_type": "code",
   "execution_count": null,
   "metadata": {},
   "outputs": [],
   "source": [
    "for twit in female_tweets['text']:\n",
    "    text=TextBlob(twit)\n",
    "    correct=text.correct()\n",
    "    if twit!=correct:\n",
    "        count_female+=1\n",
    "    else:\n",
    "        continue"
   ]
  },
  {
   "cell_type": "markdown",
   "metadata": {},
   "source": [
    "The above block of code will check each tweet and see if there are any typos(word by word) and increase the count.Thus the total count will indicate the number of wrongly spelled words"
   ]
  },
  {
   "cell_type": "code",
   "execution_count": null,
   "metadata": {},
   "outputs": [],
   "source": [
    "print(count_female)"
   ]
  },
  {
   "cell_type": "code",
   "execution_count": null,
   "metadata": {},
   "outputs": [],
   "source": [
    "length_f=[]\n",
    "for twit in female_tweets['text']:\n",
    "    text=twit.split()\n",
    "    length_f.append(len(text))\n",
    "print(sum(length_f))\n",
    "\n",
    "print(\"The percentage of typos in the tweets made by female users is\",(count_female*100/sum(length_f)))"
   ]
  },
  {
   "cell_type": "markdown",
   "metadata": {},
   "source": [
    "Now to do the same for brand users"
   ]
  },
  {
   "cell_type": "code",
   "execution_count": null,
   "metadata": {},
   "outputs": [],
   "source": [
    "brand_tweets=df[df['gender']=='brand']\n",
    "count_brand=0\n",
    "\n",
    "##This code will create a dataframe with the gender column having only brand value"
   ]
  },
  {
   "cell_type": "code",
   "execution_count": null,
   "metadata": {},
   "outputs": [],
   "source": [
    "brand_tweets.columns"
   ]
  },
  {
   "cell_type": "code",
   "execution_count": null,
   "metadata": {},
   "outputs": [],
   "source": [
    "brand_tweets['gender'].value_counts()"
   ]
  },
  {
   "cell_type": "code",
   "execution_count": null,
   "metadata": {},
   "outputs": [],
   "source": [
    "for twit in brand_tweets['text']:\n",
    "    text=TextBlob(twit)\n",
    "    correct=text.correct()\n",
    "    if twit!=correct:\n",
    "        count_brand+=1\n",
    "    else:\n",
    "        continue"
   ]
  },
  {
   "cell_type": "code",
   "execution_count": null,
   "metadata": {},
   "outputs": [],
   "source": [
    "print(count_brand)"
   ]
  },
  {
   "cell_type": "code",
   "execution_count": null,
   "metadata": {},
   "outputs": [],
   "source": [
    "length_b=[]\n",
    "for twit in brand_tweets['text']:\n",
    "    text=twit.split()\n",
    "    length_b.append(len(text))\n",
    "print(sum(length_b))"
   ]
  },
  {
   "cell_type": "code",
   "execution_count": null,
   "metadata": {},
   "outputs": [],
   "source": [
    "print(\"The percentage of typos in the tweets made by brand users/account is\",(count_brand*100/sum(length_b)))"
   ]
  },
  {
   "cell_type": "markdown",
   "metadata": {},
   "source": [
    "Thus we can see that female users make more typos in their tweets"
   ]
  },
  {
   "cell_type": "markdown",
   "metadata": {},
   "source": [
    "## What are the most common emotions/words used by Males and Females?"
   ]
  },
  {
   "cell_type": "code",
   "execution_count": null,
   "metadata": {},
   "outputs": [],
   "source": [
    "df_2=df[['text_description','gender']]"
   ]
  },
  {
   "cell_type": "code",
   "execution_count": null,
   "metadata": {},
   "outputs": [],
   "source": [
    "df_2['text_description'] = df_2['text_description'].str.lower().str.split()\n",
    "df_2['text_description'] = df_2['text_description'].apply(lambda x : [item for item in x if item not in stop])"
   ]
  },
  {
   "cell_type": "code",
   "execution_count": null,
   "metadata": {},
   "outputs": [],
   "source": [
    "Male = df_2[df_2['gender'] == 'male']\n",
    "Female = df_2[df_2['gender'] == 'female']\n",
    "Brand = df_2[df_2['gender'] == 'brand']\n",
    "Male_Words = pd.Series(' '.join(Male['text_description'].astype(str)).lower().split(\" \")).value_counts()[:20]\n",
    "Female_Words = pd.Series(' '.join(Female['text_description'].astype(str)).lower().split(\" \")).value_counts()[:20]\n",
    "Brand_words = pd.Series(' '.join(Brand['text_description'].astype(str)).lower().split(\" \")).value_counts()[:10]"
   ]
  },
  {
   "cell_type": "code",
   "execution_count": null,
   "metadata": {},
   "outputs": [],
   "source": [
    "Female_Words.plot(kind='bar',stacked=True,)"
   ]
  },
  {
   "cell_type": "code",
   "execution_count": null,
   "metadata": {},
   "outputs": [],
   "source": [
    "Female_Words"
   ]
  },
  {
   "cell_type": "code",
   "execution_count": null,
   "metadata": {},
   "outputs": [],
   "source": [
    "Male_Words.plot(kind='bar',stacked=True, colormap='plasma')"
   ]
  },
  {
   "cell_type": "code",
   "execution_count": null,
   "metadata": {},
   "outputs": [],
   "source": [
    "Male_Words"
   ]
  },
  {
   "cell_type": "code",
   "execution_count": null,
   "metadata": {},
   "outputs": [],
   "source": [
    "Brand_words.plot(kind='bar',stacked=True, colormap='Paired')"
   ]
  },
  {
   "cell_type": "code",
   "execution_count": null,
   "metadata": {},
   "outputs": [],
   "source": [
    "Brand_words"
   ]
  }
 ],
 "metadata": {
  "kernelspec": {
   "display_name": "Python 3",
   "language": "python",
   "name": "python3"
  },
  "language_info": {
   "codemirror_mode": {
    "name": "ipython",
    "version": 3
   },
   "file_extension": ".py",
   "mimetype": "text/x-python",
   "name": "python",
   "nbconvert_exporter": "python",
   "pygments_lexer": "ipython3",
   "version": "3.7.6"
  }
 },
 "nbformat": 4,
 "nbformat_minor": 4
}
